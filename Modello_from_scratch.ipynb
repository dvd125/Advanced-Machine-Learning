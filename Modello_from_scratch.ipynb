{
  "nbformat": 4,
  "nbformat_minor": 0,
  "metadata": {
    "colab": {
      "name": "Modello_from_scratch.ipynb",
      "provenance": [],
      "collapsed_sections": []
    },
    "kernelspec": {
      "name": "python3",
      "display_name": "Python 3"
    },
    "accelerator": "GPU"
  },
  "cells": [
    {
      "cell_type": "markdown",
      "source": [
        "# **ADVANCED MACHINE LEARNING FINAL PROJECT**\n",
        "\n",
        "##### Authors: Dario Della Mura - David Doci\n",
        "\n",
        "##### Course: Advanced Machine Learning\n",
        "\n",
        "##### Master's Degree: Data Science\n",
        "\n",
        "##### Anno accademico: 2020/2021\n",
        "\n",
        "\n",
        "\n",
        "\n"
      ],
      "metadata": {
        "id": "8UgyxFP-jSCo"
      }
    },
    {
      "cell_type": "markdown",
      "source": [
        "Setting Colab GPU environment"
      ],
      "metadata": {
        "id": "IOhcsNuNgNlA"
      }
    },
    {
      "cell_type": "code",
      "source": [
        "gpu_info = !nvidia-smi\n",
        "gpu_info = '\\n'.join(gpu_info)\n",
        "if gpu_info.find('failed') >= 0:\n",
        "  print('Select the Runtime > \"Change runtime type\" menu to enable a GPU accelerator, ')\n",
        "  print('and then re-execute this cell.')\n",
        "else:\n",
        "  print(gpu_info)"
      ],
      "metadata": {
        "colab": {
          "base_uri": "https://localhost:8080/"
        },
        "id": "7uM_geV2gO9H",
        "outputId": "9b29cd65-a965-4287-a5cf-0c704645e7df"
      },
      "execution_count": null,
      "outputs": [
        {
          "output_type": "stream",
          "name": "stdout",
          "text": [
            "Wed Feb  9 20:04:54 2022       \n",
            "+-----------------------------------------------------------------------------+\n",
            "| NVIDIA-SMI 460.32.03    Driver Version: 460.32.03    CUDA Version: 11.2     |\n",
            "|-------------------------------+----------------------+----------------------+\n",
            "| GPU  Name        Persistence-M| Bus-Id        Disp.A | Volatile Uncorr. ECC |\n",
            "| Fan  Temp  Perf  Pwr:Usage/Cap|         Memory-Usage | GPU-Util  Compute M. |\n",
            "|                               |                      |               MIG M. |\n",
            "|===============================+======================+======================|\n",
            "|   0  Tesla K80           Off  | 00000000:00:04.0 Off |                    0 |\n",
            "| N/A   37C    P8    28W / 149W |      0MiB / 11441MiB |      0%      Default |\n",
            "|                               |                      |                  N/A |\n",
            "+-------------------------------+----------------------+----------------------+\n",
            "                                                                               \n",
            "+-----------------------------------------------------------------------------+\n",
            "| Processes:                                                                  |\n",
            "|  GPU   GI   CI        PID   Type   Process name                  GPU Memory |\n",
            "|        ID   ID                                                   Usage      |\n",
            "|=============================================================================|\n",
            "|  No running processes found                                                 |\n",
            "+-----------------------------------------------------------------------------+\n"
          ]
        }
      ]
    },
    {
      "cell_type": "code",
      "source": [
        "from psutil import virtual_memory\n",
        "ram_gb = virtual_memory().total / 1e9\n",
        "print('Your runtime has {:.1f} gigabytes of available RAM\\n'.format(ram_gb))\n",
        "\n",
        "if ram_gb < 20:\n",
        "  print('To enable a high-RAM runtime, select the Runtime > \"Change runtime type\"')\n",
        "  print('menu, and then select High-RAM in the Runtime shape dropdown. Then, ')\n",
        "  print('re-execute this cell.')\n",
        "else:\n",
        "  print('You are using a high-RAM runtime!')"
      ],
      "metadata": {
        "colab": {
          "base_uri": "https://localhost:8080/"
        },
        "id": "KFvvFgFIgSka",
        "outputId": "3a369983-983d-418f-9419-83ebf8288d7d"
      },
      "execution_count": null,
      "outputs": [
        {
          "output_type": "stream",
          "name": "stdout",
          "text": [
            "Your runtime has 13.6 gigabytes of available RAM\n",
            "\n",
            "To enable a high-RAM runtime, select the Runtime > \"Change runtime type\"\n",
            "menu, and then select High-RAM in the Runtime shape dropdown. Then, \n",
            "re-execute this cell.\n"
          ]
        }
      ]
    },
    {
      "cell_type": "code",
      "source": [
        "import tensorflow as tf\n",
        "device_name = tf.test.gpu_device_name()\n",
        "if device_name != '/device:GPU:0':\n",
        "  raise SystemError('GPU device not found')\n",
        "print('Found GPU at: {}'.format(device_name))"
      ],
      "metadata": {
        "colab": {
          "base_uri": "https://localhost:8080/"
        },
        "id": "o9zsIu6SgTER",
        "outputId": "b41e0564-b715-4a9c-a5ee-ec33bcdeee97"
      },
      "execution_count": null,
      "outputs": [
        {
          "output_type": "stream",
          "name": "stdout",
          "text": [
            "Found GPU at: /device:GPU:0\n"
          ]
        }
      ]
    },
    {
      "cell_type": "markdown",
      "source": [
        "## Import Libraries and Fruit-360 Dataset"
      ],
      "metadata": {
        "id": "Sez_qVhckM6w"
      }
    },
    {
      "cell_type": "code",
      "source": [
        "# import Fruits-360 dataset from Github\n",
        "\n",
        "!git clone 'https://github.com/Horea94/Fruit-Images-Dataset.git'"
      ],
      "metadata": {
        "colab": {
          "base_uri": "https://localhost:8080/"
        },
        "id": "k0a918lEclRS",
        "outputId": "97d51d63-7eca-4cb8-f38a-75c8570ee474"
      },
      "execution_count": null,
      "outputs": [
        {
          "output_type": "stream",
          "name": "stdout",
          "text": [
            "Cloning into 'Fruit-Images-Dataset'...\n",
            "remote: Enumerating objects: 385858, done.\u001b[K\n",
            "remote: Counting objects: 100% (8693/8693), done.\u001b[K\n",
            "remote: Compressing objects: 100% (8672/8672), done.\u001b[K\n",
            "remote: Total 385858 (delta 36), reused 8670 (delta 21), pack-reused 377165\u001b[K\n",
            "Receiving objects: 100% (385858/385858), 2.10 GiB | 26.71 MiB/s, done.\n",
            "Resolving deltas: 100% (1196/1196), done.\n",
            "Checking out files: 100% (90503/90503), done.\n"
          ]
        }
      ]
    },
    {
      "cell_type": "code",
      "metadata": {
        "id": "LWsa-s8XZN3b"
      },
      "source": [
        "# Generiche\n",
        "import random\n",
        "import matplotlib.pyplot as plt\n",
        "%matplotlib inline\n",
        "import tensorflow as tf\n",
        "import numpy as np\n",
        "import os\n",
        "import glob\n",
        "import cv2\n",
        "\n",
        "# Keras\n",
        "from keras.models import Sequential\n",
        "from tensorflow.keras.utils import to_categorical\n",
        "from tensorflow.keras.layers import BatchNormalization\n",
        "from keras.layers import Dense, Flatten, Convolution2D, MaxPooling2D, Dropout, Activation, AveragePooling2D\n",
        "from keras.preprocessing import image\n",
        "from tensorflow.keras import regularizers\n",
        "from tensorflow.keras import optimizers \n",
        "import keras\n",
        "\n",
        "# Sklearn\n",
        "from sklearn.metrics import classification_report, confusion_matrix\n",
        "from sklearn.model_selection import train_test_split\n",
        "from sklearn.utils import class_weight\n",
        "\n",
        "# Setting Seed for project reproducibility\n",
        "np.random.seed(1234)\n",
        "tf.random.set_seed(1234)"
      ],
      "execution_count": null,
      "outputs": []
    },
    {
      "cell_type": "markdown",
      "metadata": {
        "id": "c6tWOhPYqPGb"
      },
      "source": [
        "## Data pre-processing"
      ]
    },
    {
      "cell_type": "code",
      "metadata": {
        "colab": {
          "base_uri": "https://localhost:8080/"
        },
        "id": "JbFGJT2OZ3_g",
        "outputId": "48478d7e-4ce8-4b34-dcca-8f793ddcda76"
      },
      "source": [
        "# Pre-processing on training images and building images vector and classes vector\n",
        "%%time\n",
        "\n",
        "path_train = '/content/Fruit-Images-Dataset/Training/*'\n",
        "\n",
        "fruit_train = []\n",
        "fruit_label = []\n",
        "for dir_path in glob.glob(path_train):\n",
        "    img_label = dir_path.split(\"/\")[-1]\n",
        "    for image_path in glob.glob(os.path.join(dir_path,\"*.jpg\")):\n",
        "        image = cv2.imread(image_path,cv2.IMREAD_COLOR)\n",
        "        image = cv2.resize(image, (50,50))\n",
        "        image = cv2.cvtColor(image, cv2.COLOR_RGB2BGR)\n",
        "        fruit_train.append(image)\n",
        "        fruit_label.append(img_label)\n",
        "fruit_train = np.array(fruit_train)\n",
        "fruit_label = np.array(fruit_label)"
      ],
      "execution_count": null,
      "outputs": [
        {
          "output_type": "stream",
          "name": "stdout",
          "text": [
            "CPU times: user 16.3 s, sys: 3.13 s, total: 19.4 s\n",
            "Wall time: 19.9 s\n"
          ]
        }
      ]
    },
    {
      "cell_type": "code",
      "metadata": {
        "colab": {
          "base_uri": "https://localhost:8080/"
        },
        "id": "Wwi9gGbBgbzu",
        "outputId": "a0bca475-08c9-4b99-c705-e47d1ce6ba8e"
      },
      "source": [
        "# class codification\n",
        "%%time\n",
        "\n",
        "# numerical label assignment to nominal classes\n",
        "label_to_id = {v:k for k,v in enumerate(np.unique(fruit_label))}\n",
        "id_to_label = {v:k for k,v in label_to_id.items() }\n",
        "# assignment of numerical labels to the reference images\n",
        "fruit_label_id = np.array([label_to_id[i] for i in fruit_label])"
      ],
      "execution_count": null,
      "outputs": [
        {
          "output_type": "stream",
          "name": "stdout",
          "text": [
            "CPU times: user 52 ms, sys: 2.78 ms, total: 54.8 ms\n",
            "Wall time: 54.9 ms\n"
          ]
        }
      ]
    },
    {
      "cell_type": "code",
      "metadata": {
        "colab": {
          "base_uri": "https://localhost:8080/"
        },
        "id": "y417K3UTmnal",
        "outputId": "95627f61-eb0f-4680-c1d9-7867c00a1a6c"
      },
      "source": [
        "%%time\n",
        "\n",
        "fruit_label_id.shape"
      ],
      "execution_count": null,
      "outputs": [
        {
          "output_type": "stream",
          "name": "stdout",
          "text": [
            "CPU times: user 7 µs, sys: 1 µs, total: 8 µs\n",
            "Wall time: 13.4 µs\n"
          ]
        },
        {
          "output_type": "execute_result",
          "data": {
            "text/plain": [
              "(67692,)"
            ]
          },
          "metadata": {},
          "execution_count": 8
        }
      ]
    },
    {
      "cell_type": "code",
      "metadata": {
        "colab": {
          "base_uri": "https://localhost:8080/"
        },
        "id": "5EZ5-eU_iCo9",
        "outputId": "a4cb17d8-99e2-4684-8bed-a25c6580cfab"
      },
      "source": [
        "%%time\n",
        "\n",
        "fruit_train[1].shape"
      ],
      "execution_count": null,
      "outputs": [
        {
          "output_type": "stream",
          "name": "stdout",
          "text": [
            "CPU times: user 14 µs, sys: 3 µs, total: 17 µs\n",
            "Wall time: 22.2 µs\n"
          ]
        },
        {
          "output_type": "execute_result",
          "data": {
            "text/plain": [
              "(50, 50, 3)"
            ]
          },
          "metadata": {},
          "execution_count": 9
        }
      ]
    },
    {
      "cell_type": "code",
      "metadata": {
        "colab": {
          "base_uri": "https://localhost:8080/"
        },
        "id": "az2ZOZXAnTrz",
        "outputId": "74e67cc2-fff5-46d2-f0e6-17f3eebfab49"
      },
      "source": [
        "# Splitting images on training and validation sets\n",
        "%%time\n",
        "\n",
        "X_train, X_test, y_train, y_test = train_test_split(fruit_train, fruit_label_id, test_size=0.1, random_state=101)"
      ],
      "execution_count": null,
      "outputs": [
        {
          "output_type": "stream",
          "name": "stdout",
          "text": [
            "CPU times: user 181 ms, sys: 863 ms, total: 1.04 s\n",
            "Wall time: 893 ms\n"
          ]
        }
      ]
    },
    {
      "cell_type": "code",
      "metadata": {
        "colab": {
          "base_uri": "https://localhost:8080/"
        },
        "id": "Tz9I24iPmvoe",
        "outputId": "0351e8f8-f8c1-4e41-8490-53f7c8c536c2"
      },
      "source": [
        "%%time\n",
        "\n",
        "print('Train size: ', len(X_train))\n",
        "print('Test size: ', len(X_test))"
      ],
      "execution_count": null,
      "outputs": [
        {
          "output_type": "stream",
          "name": "stdout",
          "text": [
            "Train size:  60922\n",
            "Test size:  6770\n",
            "CPU times: user 273 µs, sys: 63 µs, total: 336 µs\n",
            "Wall time: 221 µs\n"
          ]
        }
      ]
    },
    {
      "cell_type": "code",
      "metadata": {
        "colab": {
          "base_uri": "https://localhost:8080/"
        },
        "id": "RzxKL62Im2Oi",
        "outputId": "00778b0d-46f2-4839-bf2a-8dfd9d9bd2d9"
      },
      "source": [
        "%%time\n",
        "# Normalization of train and test(val) sets\n",
        "\n",
        "X_train = X_train/255\n",
        "X_test = X_test/255"
      ],
      "execution_count": null,
      "outputs": [
        {
          "output_type": "stream",
          "name": "stdout",
          "text": [
            "CPU times: user 1.85 s, sys: 2.76 s, total: 4.61 s\n",
            "Wall time: 4.64 s\n"
          ]
        }
      ]
    },
    {
      "cell_type": "code",
      "metadata": {
        "id": "AdO0C_JUn8lZ",
        "colab": {
          "base_uri": "https://localhost:8080/"
        },
        "outputId": "f8138067-0608-419a-cfaf-4ec4fe495c61"
      },
      "source": [
        "# One-hot-encoding on target variable\n",
        "\n",
        "%%time\n",
        "classes = 131\n",
        "y_train_labels = to_categorical(y_train, classes)\n",
        "y_test_labels = to_categorical(y_test, classes)"
      ],
      "execution_count": null,
      "outputs": [
        {
          "output_type": "stream",
          "name": "stdout",
          "text": [
            "CPU times: user 13.5 ms, sys: 145 µs, total: 13.6 ms\n",
            "Wall time: 14.2 ms\n"
          ]
        }
      ]
    },
    {
      "cell_type": "markdown",
      "metadata": {
        "id": "NCj3aRTIq-sS"
      },
      "source": [
        "## Build CNN Model from scratch"
      ]
    },
    {
      "cell_type": "code",
      "metadata": {
        "colab": {
          "base_uri": "https://localhost:8080/"
        },
        "id": "_uZ4ArzioclK",
        "outputId": "b4fedd5f-c8ef-4fc8-86e0-aeb4747b0561"
      },
      "source": [
        "%%time\n",
        "\n",
        "def build(width, height, depth, classes):\n",
        "    #initialize the model along with the input shape\n",
        "    initializer = tf.keras.initializers.GlorotUniform(seed=1234) \n",
        "    model = Sequential()\n",
        "    inputShape = (height, width, depth)\n",
        "    chanDim = -1\n",
        "    if K.image_data_format() == 'channels_first':\n",
        "        inputShape = (depth, height, width)\n",
        "        chanDim = 1 \n",
        "\n",
        "    model.add(Convolution2D(32, (3,3), padding='same', kernel_initializer=initializer,  input_shape=inputShape))\n",
        "    model.add(Activation('relu'))\n",
        "    model.add(MaxPooling2D(pool_size=(2,2)))\n",
        "\n",
        "    model.add(Convolution2D(64, (3,3), padding='same', kernel_initializer=initializer))\n",
        "    model.add(Activation('relu'))\n",
        "    model.add(MaxPooling2D(pool_size=(2,2)))\n",
        "\n",
        "    model.add(Convolution2D(128, (3,3), padding='same', kernel_initializer=initializer))\n",
        "    model.add(Activation('relu'))\n",
        "    model.add(MaxPooling2D(pool_size=(2,2)))\n",
        "\n",
        "    model.add(Convolution2D(256, (3,3), padding='same', kernel_initializer=initializer))\n",
        "    model.add(Activation('relu'))\n",
        "    model.add(MaxPooling2D(pool_size=(2,2)))\n",
        "\n",
        "    model.add(Flatten())\n",
        "    model.add(Dense(32, kernel_initializer=initializer))\n",
        "    model.add(Activation('relu'))\n",
        "    model.add(Dropout(0.10))\n",
        "\n",
        "    model.add(Dense(classes))\n",
        "    model.add(Activation('softmax'))\n",
        "    \n",
        "    return model"
      ],
      "execution_count": null,
      "outputs": [
        {
          "output_type": "stream",
          "name": "stdout",
          "text": [
            "CPU times: user 3 µs, sys: 0 ns, total: 3 µs\n",
            "Wall time: 6.68 µs\n"
          ]
        }
      ]
    },
    {
      "cell_type": "code",
      "metadata": {
        "id": "uJuZyMWmrBnM"
      },
      "source": [
        "# building model for (50,50,3) input image\n",
        "import keras.backend as K\n",
        "model = build(50, 50, 3, 131)"
      ],
      "execution_count": null,
      "outputs": []
    },
    {
      "cell_type": "code",
      "metadata": {
        "id": "hIIcK5MHquFG"
      },
      "source": [
        "# set loss function and optimizer of the model and evalutation metrics \n",
        "model.compile(loss='categorical_crossentropy', optimizer='adam', metrics=['accuracy'])"
      ],
      "execution_count": null,
      "outputs": []
    },
    {
      "cell_type": "code",
      "metadata": {
        "colab": {
          "base_uri": "https://localhost:8080/"
        },
        "id": "QV3yhW7BrPKj",
        "outputId": "cbf8126c-6c2f-4d65-ddd4-68ea7f48c96d"
      },
      "source": [
        "model.summary()"
      ],
      "execution_count": null,
      "outputs": [
        {
          "output_type": "stream",
          "name": "stdout",
          "text": [
            "Model: \"sequential\"\n",
            "_________________________________________________________________\n",
            " Layer (type)                Output Shape              Param #   \n",
            "=================================================================\n",
            " conv2d (Conv2D)             (None, 50, 50, 32)        896       \n",
            "                                                                 \n",
            " activation (Activation)     (None, 50, 50, 32)        0         \n",
            "                                                                 \n",
            " max_pooling2d (MaxPooling2D  (None, 25, 25, 32)       0         \n",
            " )                                                               \n",
            "                                                                 \n",
            " conv2d_1 (Conv2D)           (None, 25, 25, 64)        18496     \n",
            "                                                                 \n",
            " activation_1 (Activation)   (None, 25, 25, 64)        0         \n",
            "                                                                 \n",
            " max_pooling2d_1 (MaxPooling  (None, 12, 12, 64)       0         \n",
            " 2D)                                                             \n",
            "                                                                 \n",
            " conv2d_2 (Conv2D)           (None, 12, 12, 128)       73856     \n",
            "                                                                 \n",
            " activation_2 (Activation)   (None, 12, 12, 128)       0         \n",
            "                                                                 \n",
            " max_pooling2d_2 (MaxPooling  (None, 6, 6, 128)        0         \n",
            " 2D)                                                             \n",
            "                                                                 \n",
            " conv2d_3 (Conv2D)           (None, 6, 6, 256)         295168    \n",
            "                                                                 \n",
            " activation_3 (Activation)   (None, 6, 6, 256)         0         \n",
            "                                                                 \n",
            " max_pooling2d_3 (MaxPooling  (None, 3, 3, 256)        0         \n",
            " 2D)                                                             \n",
            "                                                                 \n",
            " flatten (Flatten)           (None, 2304)              0         \n",
            "                                                                 \n",
            " dense (Dense)               (None, 32)                73760     \n",
            "                                                                 \n",
            " activation_4 (Activation)   (None, 32)                0         \n",
            "                                                                 \n",
            " dropout (Dropout)           (None, 32)                0         \n",
            "                                                                 \n",
            " dense_1 (Dense)             (None, 131)               4323      \n",
            "                                                                 \n",
            " activation_5 (Activation)   (None, 131)               0         \n",
            "                                                                 \n",
            "=================================================================\n",
            "Total params: 466,499\n",
            "Trainable params: 466,499\n",
            "Non-trainable params: 0\n",
            "_________________________________________________________________\n"
          ]
        }
      ]
    },
    {
      "cell_type": "code",
      "metadata": {
        "colab": {
          "base_uri": "https://localhost:8080/"
        },
        "id": "RfGxdqcNrQmZ",
        "outputId": "623d9fa8-0f98-473d-8aa1-ba5c438858d9"
      },
      "source": [
        "# Neural network training\n",
        "%%time\n",
        "with tf.device('/device:GPU:0'):  \n",
        "  history = model.fit(X_train, y_train_labels, epochs=40, batch_size=32,  validation_split=0.30)"
      ],
      "execution_count": null,
      "outputs": [
        {
          "output_type": "stream",
          "name": "stdout",
          "text": [
            "Epoch 1/40\n",
            "1333/1333 [==============================] - 36s 20ms/step - loss: 2.4034 - accuracy: 0.4029 - val_loss: 0.6252 - val_accuracy: 0.8505\n",
            "Epoch 2/40\n",
            "1333/1333 [==============================] - 23s 17ms/step - loss: 1.0664 - accuracy: 0.7098 - val_loss: 0.3015 - val_accuracy: 0.9441\n",
            "Epoch 3/40\n",
            "1333/1333 [==============================] - 24s 18ms/step - loss: 0.8196 - accuracy: 0.7753 - val_loss: 0.1854 - val_accuracy: 0.9775\n",
            "Epoch 4/40\n",
            "1333/1333 [==============================] - 24s 18ms/step - loss: 0.6425 - accuracy: 0.8150 - val_loss: 0.0836 - val_accuracy: 0.9873\n",
            "Epoch 5/40\n",
            "1333/1333 [==============================] - 26s 19ms/step - loss: 0.5023 - accuracy: 0.8505 - val_loss: 0.0738 - val_accuracy: 0.9876\n",
            "Epoch 6/40\n",
            "1333/1333 [==============================] - 24s 18ms/step - loss: 0.4415 - accuracy: 0.8655 - val_loss: 0.0564 - val_accuracy: 0.9919\n",
            "Epoch 7/40\n",
            "1333/1333 [==============================] - 24s 18ms/step - loss: 0.3908 - accuracy: 0.8806 - val_loss: 0.0317 - val_accuracy: 0.9967\n",
            "Epoch 8/40\n",
            "1333/1333 [==============================] - 25s 19ms/step - loss: 0.3708 - accuracy: 0.8862 - val_loss: 0.0329 - val_accuracy: 0.9951\n",
            "Epoch 9/40\n",
            "1333/1333 [==============================] - 26s 20ms/step - loss: 0.2997 - accuracy: 0.9065 - val_loss: 0.0237 - val_accuracy: 0.9947\n",
            "Epoch 10/40\n",
            "1333/1333 [==============================] - 26s 19ms/step - loss: 0.2319 - accuracy: 0.9265 - val_loss: 0.0133 - val_accuracy: 0.9965\n",
            "Epoch 11/40\n",
            "1333/1333 [==============================] - 27s 21ms/step - loss: 0.1993 - accuracy: 0.9384 - val_loss: 0.0233 - val_accuracy: 0.9921\n",
            "Epoch 12/40\n",
            "1333/1333 [==============================] - 25s 19ms/step - loss: 0.1902 - accuracy: 0.9418 - val_loss: 0.0128 - val_accuracy: 0.9987\n",
            "Epoch 13/40\n",
            "1333/1333 [==============================] - 25s 19ms/step - loss: 0.1775 - accuracy: 0.9441 - val_loss: 0.0133 - val_accuracy: 0.9974\n",
            "Epoch 14/40\n",
            "1333/1333 [==============================] - 25s 19ms/step - loss: 0.1533 - accuracy: 0.9538 - val_loss: 0.0050 - val_accuracy: 0.9994\n",
            "Epoch 15/40\n",
            "1333/1333 [==============================] - 28s 21ms/step - loss: 0.1124 - accuracy: 0.9645 - val_loss: 0.0151 - val_accuracy: 0.9960\n",
            "Epoch 16/40\n",
            "1333/1333 [==============================] - 24s 18ms/step - loss: 0.1052 - accuracy: 0.9679 - val_loss: 0.0064 - val_accuracy: 0.9980\n",
            "Epoch 17/40\n",
            "1333/1333 [==============================] - 24s 18ms/step - loss: 0.0820 - accuracy: 0.9741 - val_loss: 0.0180 - val_accuracy: 0.9949\n",
            "Epoch 18/40\n",
            "1333/1333 [==============================] - 24s 18ms/step - loss: 0.0824 - accuracy: 0.9741 - val_loss: 0.0048 - val_accuracy: 0.9992\n",
            "Epoch 19/40\n",
            "1333/1333 [==============================] - 27s 20ms/step - loss: 0.0867 - accuracy: 0.9738 - val_loss: 0.0233 - val_accuracy: 0.9936\n",
            "Epoch 20/40\n",
            "1333/1333 [==============================] - 25s 19ms/step - loss: 0.0757 - accuracy: 0.9764 - val_loss: 0.0018 - val_accuracy: 0.9999\n",
            "Epoch 21/40\n",
            "1333/1333 [==============================] - 27s 20ms/step - loss: 0.0723 - accuracy: 0.9768 - val_loss: 0.0021 - val_accuracy: 0.9996\n",
            "Epoch 22/40\n",
            "1333/1333 [==============================] - 26s 20ms/step - loss: 0.0683 - accuracy: 0.9797 - val_loss: 0.0044 - val_accuracy: 0.9986\n",
            "Epoch 23/40\n",
            "1333/1333 [==============================] - 27s 20ms/step - loss: 0.0674 - accuracy: 0.9786 - val_loss: 0.0036 - val_accuracy: 0.9993\n",
            "Epoch 24/40\n",
            "1333/1333 [==============================] - 26s 19ms/step - loss: 0.0615 - accuracy: 0.9813 - val_loss: 0.0015 - val_accuracy: 0.9996\n",
            "Epoch 25/40\n",
            "1333/1333 [==============================] - 27s 20ms/step - loss: 0.0551 - accuracy: 0.9834 - val_loss: 0.0139 - val_accuracy: 0.9963\n",
            "Epoch 26/40\n",
            "1333/1333 [==============================] - 24s 18ms/step - loss: 0.0536 - accuracy: 0.9839 - val_loss: 0.0017 - val_accuracy: 0.9995\n",
            "Epoch 27/40\n",
            "1333/1333 [==============================] - 26s 20ms/step - loss: 0.0457 - accuracy: 0.9860 - val_loss: 0.0025 - val_accuracy: 0.9996\n",
            "Epoch 28/40\n",
            "1333/1333 [==============================] - 28s 21ms/step - loss: 0.0464 - accuracy: 0.9856 - val_loss: 0.0035 - val_accuracy: 0.9995\n",
            "Epoch 29/40\n",
            "1333/1333 [==============================] - 26s 20ms/step - loss: 0.0503 - accuracy: 0.9850 - val_loss: 0.0017 - val_accuracy: 0.9997\n",
            "Epoch 30/40\n",
            "1333/1333 [==============================] - 28s 21ms/step - loss: 0.0401 - accuracy: 0.9876 - val_loss: 0.0028 - val_accuracy: 0.9995\n",
            "Epoch 31/40\n",
            "1333/1333 [==============================] - 26s 20ms/step - loss: 0.0410 - accuracy: 0.9876 - val_loss: 6.5436e-04 - val_accuracy: 0.9998\n",
            "Epoch 32/40\n",
            "1333/1333 [==============================] - 25s 19ms/step - loss: 0.0399 - accuracy: 0.9886 - val_loss: 7.2470e-04 - val_accuracy: 0.9998\n",
            "Epoch 33/40\n",
            "1333/1333 [==============================] - 25s 19ms/step - loss: 0.0392 - accuracy: 0.9885 - val_loss: 0.0037 - val_accuracy: 0.9994\n",
            "Epoch 34/40\n",
            "1333/1333 [==============================] - 27s 20ms/step - loss: 0.0396 - accuracy: 0.9889 - val_loss: 0.0020 - val_accuracy: 0.9995\n",
            "Epoch 35/40\n",
            "1333/1333 [==============================] - 25s 18ms/step - loss: 0.0349 - accuracy: 0.9905 - val_loss: 0.0053 - val_accuracy: 0.9987\n",
            "Epoch 36/40\n",
            "1333/1333 [==============================] - 26s 20ms/step - loss: 0.0344 - accuracy: 0.9898 - val_loss: 7.3476e-04 - val_accuracy: 0.9998\n",
            "Epoch 37/40\n",
            "1333/1333 [==============================] - 24s 18ms/step - loss: 0.0333 - accuracy: 0.9908 - val_loss: 0.0042 - val_accuracy: 0.9984\n",
            "Epoch 38/40\n",
            "1333/1333 [==============================] - 25s 19ms/step - loss: 0.0345 - accuracy: 0.9906 - val_loss: 0.0015 - val_accuracy: 0.9996\n",
            "Epoch 39/40\n",
            "1333/1333 [==============================] - 26s 20ms/step - loss: 0.0266 - accuracy: 0.9929 - val_loss: 0.0042 - val_accuracy: 0.9992\n",
            "Epoch 40/40\n",
            "1333/1333 [==============================] - 27s 20ms/step - loss: 0.0298 - accuracy: 0.9921 - val_loss: 0.0059 - val_accuracy: 0.9987\n",
            "CPU times: user 15min 32s, sys: 1min 25s, total: 16min 57s\n",
            "Wall time: 17min 25s\n"
          ]
        }
      ]
    },
    {
      "cell_type": "markdown",
      "metadata": {
        "id": "HO1soUnks6lh"
      },
      "source": [
        "### Results on training"
      ]
    },
    {
      "cell_type": "code",
      "metadata": {
        "colab": {
          "base_uri": "https://localhost:8080/",
          "height": 1000
        },
        "id": "78b9EmCAshB6",
        "outputId": "04a6a262-a3e6-4ec0-f748-d6f2ae9530a6"
      },
      "source": [
        "# accuracy and loss chart of the model\n",
        "%%time\n",
        "\n",
        "plt.figure(figsize=(8,8))\n",
        "plt.subplot(1, 2, 2)\n",
        "plt.plot(history.history['accuracy'])\n",
        "plt.plot(history.history['val_accuracy'])\n",
        "plt.title('Model Accuracy')\n",
        "plt.ylabel('accuracy')\n",
        "plt.xlabel('epoch')\n",
        "plt.legend(['train', 'val'], loc='upper left')\n",
        "plt.show()\n",
        "\n",
        "plt.figure(figsize=(8,8))\n",
        "plt.subplot(1, 2, 2)\n",
        "plt.plot(history.history['loss'])\n",
        "plt.plot(history.history['val_loss'])\n",
        "plt.title('Model Loss')\n",
        "plt.ylabel('loss')\n",
        "plt.xlabel('epoch')\n",
        "plt.legend(['train', 'val'], loc='upper left')\n",
        "plt.show()"
      ],
      "execution_count": null,
      "outputs": [
        {
          "output_type": "display_data",
          "data": {
            "image/png": "[encoded data removed]",
            "text/plain": [
              "<Figure size 576x576 with 1 Axes>"
            ]
          },
          "metadata": {
            "needs_background": "light"
          }
        },
        {
          "output_type": "display_data",
          "data": {
            "image/png": "[encoded data removed]",
            "text/plain": [
              "<Figure size 576x576 with 1 Axes>"
            ]
          },
          "metadata": {
            "needs_background": "light"
          }
        },
        {
          "output_type": "stream",
          "name": "stdout",
          "text": [
            "CPU times: user 417 ms, sys: 17.7 ms, total: 435 ms\n",
            "Wall time: 483 ms\n"
          ]
        }
      ]
    },
    {
      "cell_type": "code",
      "metadata": {
        "colab": {
          "base_uri": "https://localhost:8080/"
        },
        "id": "ZVPbNtdPskHr",
        "outputId": "2b0b58c6-5339-43f8-82d9-ef01336901f3"
      },
      "source": [
        "# Performance of the neural network built from scratch on val set\n",
        "\n",
        "score = model.evaluate(X_test, y_test_labels, verbose=0)\n",
        "print(\"Test loss:\", score[0])\n",
        "print(\"Test accuracy:\", score[1])"
      ],
      "execution_count": null,
      "outputs": [
        {
          "output_type": "stream",
          "name": "stdout",
          "text": [
            "Test loss: 0.0022673998028039932\n",
            "Test accuracy: 0.999556839466095\n"
          ]
        }
      ]
    },
    {
      "cell_type": "code",
      "metadata": {
        "colab": {
          "base_uri": "https://localhost:8080/"
        },
        "id": "4wULxpQns1bS",
        "outputId": "142366d8-b0fa-4c4c-c2a6-696b66adb713"
      },
      "source": [
        "# Use of the previous trained neural network to predict the class of the images of the val set\n",
        "%%time\n",
        "\n",
        "predict_x=model.predict(X_test) \n",
        "classes_x=np.argmax(predict_x,axis=1)\n",
        "print(classification_report(classes_x, y_test))"
      ],
      "execution_count": null,
      "outputs": [
        {
          "output_type": "stream",
          "name": "stdout",
          "text": [
            "              precision    recall  f1-score   support\n",
            "\n",
            "           0       0.98      1.00      0.99        59\n",
            "           1       1.00      1.00      1.00        51\n",
            "           2       1.00      1.00      1.00        53\n",
            "           3       1.00      1.00      1.00        52\n",
            "           4       1.00      1.00      1.00        51\n",
            "           5       1.00      1.00      1.00        42\n",
            "           6       0.98      1.00      0.99        46\n",
            "           7       1.00      1.00      1.00        55\n",
            "           8       1.00      1.00      1.00        61\n",
            "           9       1.00      1.00      1.00        46\n",
            "          10       1.00      1.00      1.00        60\n",
            "          11       1.00      1.00      1.00        48\n",
            "          12       1.00      1.00      1.00        61\n",
            "          13       1.00      1.00      1.00        49\n",
            "          14       1.00      1.00      1.00        43\n",
            "          15       1.00      1.00      1.00        43\n",
            "          16       1.00      1.00      1.00        53\n",
            "          17       1.00      1.00      1.00        40\n",
            "          18       1.00      1.00      1.00        51\n",
            "          19       1.00      1.00      1.00        43\n",
            "          20       1.00      1.00      1.00        57\n",
            "          21       1.00      1.00      1.00        65\n",
            "          22       1.00      1.00      1.00        37\n",
            "          23       1.00      1.00      1.00        35\n",
            "          24       1.00      1.00      1.00        51\n",
            "          25       1.00      1.00      1.00        80\n",
            "          26       1.00      1.00      1.00        49\n",
            "          27       1.00      1.00      1.00        70\n",
            "          28       1.00      1.00      1.00        76\n",
            "          29       1.00      1.00      1.00        45\n",
            "          30       1.00      1.00      1.00        45\n",
            "          31       1.00      1.00      1.00        53\n",
            "          32       1.00      1.00      1.00        29\n",
            "          33       1.00      1.00      1.00        60\n",
            "          34       1.00      1.00      1.00        42\n",
            "          35       1.00      1.00      1.00        42\n",
            "          36       1.00      1.00      1.00        46\n",
            "          37       1.00      1.00      1.00        37\n",
            "          38       1.00      1.00      1.00        49\n",
            "          39       1.00      1.00      1.00        52\n",
            "          40       1.00      1.00      1.00        36\n",
            "          41       1.00      1.00      1.00        76\n",
            "          42       1.00      0.97      0.98        32\n",
            "          43       1.00      1.00      1.00        54\n",
            "          44       1.00      1.00      1.00        89\n",
            "          45       1.00      1.00      1.00        51\n",
            "          46       1.00      1.00      1.00        47\n",
            "          47       1.00      1.00      1.00        37\n",
            "          48       1.00      1.00      1.00        57\n",
            "          49       1.00      1.00      1.00        44\n",
            "          50       1.00      1.00      1.00        51\n",
            "          51       1.00      1.00      1.00        59\n",
            "          52       1.00      1.00      1.00        45\n",
            "          53       1.00      1.00      1.00        50\n",
            "          54       1.00      1.00      1.00        40\n",
            "          55       1.00      1.00      1.00        47\n",
            "          56       1.00      1.00      1.00        56\n",
            "          57       1.00      1.00      1.00        45\n",
            "          58       1.00      1.00      1.00        45\n",
            "          59       1.00      1.00      1.00        51\n",
            "          60       1.00      1.00      1.00        58\n",
            "          61       1.00      1.00      1.00        44\n",
            "          62       1.00      1.00      1.00        40\n",
            "          63       1.00      1.00      1.00        48\n",
            "          64       1.00      1.00      1.00        55\n",
            "          65       1.00      1.00      1.00        38\n",
            "          66       1.00      1.00      1.00        30\n",
            "          67       1.00      1.00      1.00        49\n",
            "          68       1.00      1.00      1.00        83\n",
            "          69       1.00      1.00      1.00        56\n",
            "          70       1.00      0.98      0.99        51\n",
            "          71       1.00      1.00      1.00        53\n",
            "          72       1.00      1.00      1.00        63\n",
            "          73       1.00      1.00      1.00        44\n",
            "          74       1.00      1.00      1.00        42\n",
            "          75       1.00      1.00      1.00        46\n",
            "          76       1.00      1.00      1.00        41\n",
            "          77       1.00      1.00      1.00        57\n",
            "          78       1.00      1.00      1.00        44\n",
            "          79       1.00      1.00      1.00        58\n",
            "          80       1.00      1.00      1.00        54\n",
            "          81       1.00      1.00      1.00        83\n",
            "          82       1.00      1.00      1.00        48\n",
            "          83       1.00      1.00      1.00        45\n",
            "          84       1.00      1.00      1.00        77\n",
            "          85       1.00      1.00      1.00        63\n",
            "          86       1.00      1.00      1.00        56\n",
            "          87       1.00      1.00      1.00        34\n",
            "          88       1.00      1.00      1.00        46\n",
            "          89       1.00      0.98      0.99        56\n",
            "          90       1.00      1.00      1.00        72\n",
            "          91       1.00      1.00      1.00        46\n",
            "          92       1.00      1.00      1.00        52\n",
            "          93       1.00      1.00      1.00        43\n",
            "          94       1.00      1.00      1.00        69\n",
            "          95       1.00      1.00      1.00        60\n",
            "          96       1.00      1.00      1.00        56\n",
            "          97       1.00      1.00      1.00        40\n",
            "          98       1.00      1.00      1.00        45\n",
            "          99       1.00      1.00      1.00        46\n",
            "         100       1.00      1.00      1.00        61\n",
            "         101       1.00      1.00      1.00        46\n",
            "         102       1.00      1.00      1.00        62\n",
            "         103       1.00      1.00      1.00        38\n",
            "         104       1.00      1.00      1.00        86\n",
            "         105       1.00      1.00      1.00        47\n",
            "         106       1.00      1.00      1.00        36\n",
            "         107       1.00      1.00      1.00        41\n",
            "         108       1.00      1.00      1.00        36\n",
            "         109       0.98      1.00      0.99        52\n",
            "         110       1.00      1.00      1.00        41\n",
            "         111       1.00      1.00      1.00        52\n",
            "         112       1.00      1.00      1.00        48\n",
            "         113       1.00      1.00      1.00        51\n",
            "         114       1.00      1.00      1.00        42\n",
            "         115       1.00      1.00      1.00        50\n",
            "         116       1.00      1.00      1.00        54\n",
            "         117       1.00      1.00      1.00        82\n",
            "         118       1.00      1.00      1.00        46\n",
            "         119       1.00      1.00      1.00        41\n",
            "         120       1.00      1.00      1.00        67\n",
            "         121       1.00      1.00      1.00        67\n",
            "         122       1.00      1.00      1.00        81\n",
            "         123       1.00      1.00      1.00        48\n",
            "         124       1.00      1.00      1.00        37\n",
            "         125       1.00      1.00      1.00        77\n",
            "         126       1.00      1.00      1.00        31\n",
            "         127       1.00      1.00      1.00        49\n",
            "         128       1.00      1.00      1.00        50\n",
            "         129       1.00      1.00      1.00        66\n",
            "         130       1.00      1.00      1.00        55\n",
            "\n",
            "    accuracy                           1.00      6770\n",
            "   macro avg       1.00      1.00      1.00      6770\n",
            "weighted avg       1.00      1.00      1.00      6770\n",
            "\n",
            "CPU times: user 1.58 s, sys: 202 ms, total: 1.78 s\n",
            "Wall time: 3.11 s\n"
          ]
        }
      ]
    },
    {
      "cell_type": "code",
      "source": [
        ""
      ],
      "metadata": {
        "id": "TE7V-wsIKIwh"
      },
      "execution_count": null,
      "outputs": []
    },
    {
      "cell_type": "code",
      "source": [
        "#save model for future evaluation\n",
        "\n",
        "# serialize model to JSON\n",
        "model_json = model.to_json()\n",
        "with open(\"model.json\", \"w\") as json_file:\n",
        "    json_file.write(model_json)\n",
        "# serialize weights to HDF5\n",
        "model.save_weights(\"model.h5\")\n",
        "print(\"Saved model to disk\")"
      ],
      "metadata": {
        "colab": {
          "base_uri": "https://localhost:8080/"
        },
        "id": "vd-eoFxVrbkI",
        "outputId": "fe1a40fa-0819-4371-fb19-9f0504cc5eac"
      },
      "execution_count": null,
      "outputs": [
        {
          "output_type": "stream",
          "name": "stdout",
          "text": [
            "Saved model to disk\n"
          ]
        }
      ]
    },
    {
      "cell_type": "markdown",
      "metadata": {
        "id": "qBNpjmQitxA2"
      },
      "source": [
        "## Testing on unseen images"
      ]
    },
    {
      "cell_type": "code",
      "source": [
        "#upload pre-trained model\n",
        "from keras.models import model_from_json\n",
        "json_file = open('model.json', 'r')\n",
        "loaded_model_json = json_file.read()\n",
        "json_file.close()\n",
        "loaded_model = model_from_json(loaded_model_json)\n",
        "# load weights into new model\n",
        "loaded_model.load_weights(\"model.h5\")\n",
        "print(\"Loaded model from disk\")"
      ],
      "metadata": {
        "colab": {
          "base_uri": "https://localhost:8080/"
        },
        "id": "AWkQMF46r-SF",
        "outputId": "0f1447af-13f6-488e-f121-67613a8ed1c1"
      },
      "execution_count": null,
      "outputs": [
        {
          "output_type": "stream",
          "name": "stdout",
          "text": [
            "Loaded model from disk\n"
          ]
        }
      ]
    },
    {
      "cell_type": "code",
      "metadata": {
        "colab": {
          "base_uri": "https://localhost:8080/"
        },
        "id": "ZakSR206t3TW",
        "outputId": "aa79b622-ee52-4beb-c0e0-8d19ecaf1071"
      },
      "source": [
        "# Pre-processing on training images and building images vector and classes vector\n",
        "%%time\n",
        "\n",
        "path_test = '/content/Fruit-Images-Dataset/Test/*'\n",
        "\n",
        "fruit_test = []\n",
        "fruit_test_label = []\n",
        "for dir_path in glob.glob(path_test):\n",
        "    img_label = dir_path.split(\"/\")[-1]\n",
        "    for image_path in glob.glob(os.path.join(dir_path,\"*.jpg\")):\n",
        "        image = cv2.imread(image_path,cv2.IMREAD_COLOR)\n",
        "        image = cv2.resize(image, (50,50))\n",
        "        image = cv2.cvtColor(image, cv2.COLOR_RGB2BGR)\n",
        "        fruit_test.append(image)\n",
        "        fruit_test_label.append(img_label)\n",
        "fruit_test = np.array(fruit_test)\n",
        "fruit_test_label = np.array(fruit_test_label)"
      ],
      "execution_count": null,
      "outputs": [
        {
          "output_type": "stream",
          "name": "stdout",
          "text": [
            "CPU times: user 6.36 s, sys: 2.33 s, total: 8.7 s\n",
            "Wall time: 16.1 s\n"
          ]
        }
      ]
    },
    {
      "cell_type": "code",
      "metadata": {
        "colab": {
          "base_uri": "https://localhost:8080/"
        },
        "id": "RME8GQD4t_ue",
        "outputId": "b292ec61-2b3b-4c66-c53e-c8f3ad6e48e9"
      },
      "source": [
        "# class codification\n",
        "%%time\n",
        "\n",
        "# numerical label assignment to nominal classes\n",
        "label_to_id_test = {v:k for k,v in enumerate(np.unique(fruit_test_label)) }\n",
        "id_to_label_test = {v:k for k,v in label_to_id_test.items() }\n",
        "# assignment of numerical labels to the reference images\n",
        "fruit_label_test_id = np.array([label_to_id_test[i] for i in fruit_test_label])"
      ],
      "execution_count": null,
      "outputs": [
        {
          "output_type": "stream",
          "name": "stdout",
          "text": [
            "CPU times: user 19.4 ms, sys: 347 µs, total: 19.7 ms\n",
            "Wall time: 21.3 ms\n"
          ]
        }
      ]
    },
    {
      "cell_type": "code",
      "metadata": {
        "colab": {
          "base_uri": "https://localhost:8080/"
        },
        "id": "cn0IuGElu0vN",
        "outputId": "3f2ce300-3a6e-4ffd-9d7b-9e698281ea80"
      },
      "source": [
        "%%time\n",
        "\n",
        "fruit_label_test_id.shape"
      ],
      "execution_count": null,
      "outputs": [
        {
          "output_type": "stream",
          "name": "stdout",
          "text": [
            "CPU times: user 6 µs, sys: 1e+03 ns, total: 7 µs\n",
            "Wall time: 10 µs\n"
          ]
        },
        {
          "output_type": "execute_result",
          "data": {
            "text/plain": [
              "(22688,)"
            ]
          },
          "metadata": {},
          "execution_count": 26
        }
      ]
    },
    {
      "cell_type": "code",
      "metadata": {
        "id": "sNcH-rLOvU5n",
        "colab": {
          "base_uri": "https://localhost:8080/"
        },
        "outputId": "862755a0-2578-4eff-ee2a-e7f60798fea3"
      },
      "source": [
        "# Normalization of test images\n",
        "%%time\n",
        "fruit_test = fruit_test/255.0"
      ],
      "execution_count": null,
      "outputs": [
        {
          "output_type": "stream",
          "name": "stdout",
          "text": [
            "CPU times: user 627 ms, sys: 1.65 s, total: 2.28 s\n",
            "Wall time: 1.92 s\n"
          ]
        }
      ]
    },
    {
      "cell_type": "code",
      "metadata": {
        "id": "iVZZStcFwr0f",
        "colab": {
          "base_uri": "https://localhost:8080/"
        },
        "outputId": "5fa300ee-cde0-4c13-fe2a-fbfb98e7928b"
      },
      "source": [
        "# One-hot encoding\n",
        "%%time\n",
        "classes=131\n",
        "y_fruit_test_labels = to_categorical(fruit_label_test_id, classes)"
      ],
      "execution_count": null,
      "outputs": [
        {
          "output_type": "stream",
          "name": "stdout",
          "text": [
            "CPU times: user 5.01 ms, sys: 2.06 ms, total: 7.07 ms\n",
            "Wall time: 7.12 ms\n"
          ]
        }
      ]
    },
    {
      "cell_type": "code",
      "source": [
        "loaded_model.compile(loss='categorical_crossentropy', optimizer='adam', metrics=['accuracy'])"
      ],
      "metadata": {
        "id": "ACAdXQmpsuog"
      },
      "execution_count": null,
      "outputs": []
    },
    {
      "cell_type": "code",
      "metadata": {
        "id": "7j0VWRcCv5zm",
        "colab": {
          "base_uri": "https://localhost:8080/"
        },
        "outputId": "918e5d2c-9b93-417d-a191-6bd071ac5077"
      },
      "source": [
        "# Using the previous trained neural network to predict the class of test set images\n",
        "%%time\n",
        "pred_test = loaded_model.predict(fruit_test)"
      ],
      "execution_count": null,
      "outputs": [
        {
          "output_type": "stream",
          "name": "stdout",
          "text": [
            "CPU times: user 4.76 s, sys: 1.76 s, total: 6.52 s\n",
            "Wall time: 7.55 s\n"
          ]
        }
      ]
    },
    {
      "cell_type": "code",
      "source": [
        "pred_test = np.argmax(pred_test, axis=1)"
      ],
      "metadata": {
        "id": "iXwE3FnbKrga"
      },
      "execution_count": null,
      "outputs": []
    },
    {
      "cell_type": "markdown",
      "metadata": {
        "id": "UlqrYpCxtDSL"
      },
      "source": [
        "### Results on test"
      ]
    },
    {
      "cell_type": "code",
      "source": [
        "# Performance of the neural network built from scratch on the test images not used in the training phase\n",
        "%%time\n",
        "score_test =loaded_model.evaluate(fruit_test, y_fruit_test_labels, verbose=0)\n",
        "print(\"Test loss:\", score_test[0])\n",
        "print(\"Test accuracy:\", score_test[1])"
      ],
      "metadata": {
        "colab": {
          "base_uri": "https://localhost:8080/"
        },
        "id": "i-E5m-v90WVS",
        "outputId": "c9f1c710-6ae1-4dab-be63-433c318aed69"
      },
      "execution_count": null,
      "outputs": [
        {
          "output_type": "stream",
          "name": "stdout",
          "text": [
            "Test loss: 0.4109913408756256\n",
            "Test accuracy: 0.9619622826576233\n",
            "CPU times: user 5.31 s, sys: 1.21 s, total: 6.52 s\n",
            "Wall time: 6.76 s\n"
          ]
        }
      ]
    },
    {
      "cell_type": "code",
      "source": [
        "import seaborn as sn\n",
        "import pandas as pd\n",
        "import matplotlib.pyplot as plt\n",
        "\n",
        "cm = confusion_matrix(fruit_label_test_id, pred_test)\n",
        "\n",
        "df_cm = pd.DataFrame(cm)\n",
        "#plt.figure(figsize = (20, 20))\n",
        "#sn.heatmap(df_cm, annot=True)"
      ],
      "metadata": {
        "id": "Vf2gX5vmNnwU"
      },
      "execution_count": null,
      "outputs": []
    },
    {
      "cell_type": "code",
      "source": [
        "df_cm.to_csv('cf_model_1.csv')"
      ],
      "metadata": {
        "id": "p5GgkigfOsm7"
      },
      "execution_count": null,
      "outputs": []
    },
    {
      "cell_type": "code",
      "source": [
        "print(classification_report(  fruit_label_test_id, pred_test))"
      ],
      "metadata": {
        "colab": {
          "base_uri": "https://localhost:8080/"
        },
        "id": "Ou3SGz4AK2rA",
        "outputId": "d3f410c8-3d52-4b8f-e1d9-83e6845b5d52"
      },
      "execution_count": null,
      "outputs": [
        {
          "output_type": "stream",
          "name": "stdout",
          "text": [
            "              precision    recall  f1-score   support\n",
            "\n",
            "           0       1.00      0.69      0.82       164\n",
            "           1       1.00      0.30      0.47       148\n",
            "           2       1.00      0.86      0.92       160\n",
            "           3       0.88      1.00      0.93       164\n",
            "           4       0.93      1.00      0.96       161\n",
            "           5       1.00      1.00      1.00       164\n",
            "           6       0.57      0.89      0.69       152\n",
            "           7       0.92      0.85      0.88       164\n",
            "           8       0.95      1.00      0.97       164\n",
            "           9       1.00      1.00      1.00       144\n",
            "          10       1.00      1.00      1.00       166\n",
            "          11       0.88      1.00      0.93       164\n",
            "          12       1.00      1.00      1.00       219\n",
            "          13       1.00      1.00      1.00       164\n",
            "          14       1.00      1.00      1.00       143\n",
            "          15       0.91      1.00      0.95       166\n",
            "          16       1.00      0.89      0.94       166\n",
            "          17       0.96      1.00      0.98       152\n",
            "          18       0.95      0.86      0.90       166\n",
            "          19       0.84      1.00      0.91       150\n",
            "          20       0.96      0.95      0.96       154\n",
            "          21       0.85      1.00      0.92       166\n",
            "          22       1.00      1.00      1.00       164\n",
            "          23       0.84      0.99      0.91       164\n",
            "          24       0.94      0.88      0.91       166\n",
            "          25       0.96      1.00      0.98       234\n",
            "          26       1.00      1.00      1.00       164\n",
            "          27       1.00      1.00      1.00       246\n",
            "          28       1.00      0.70      0.82       246\n",
            "          29       1.00      1.00      1.00       164\n",
            "          30       1.00      1.00      1.00       164\n",
            "          31       0.99      1.00      1.00       164\n",
            "          32       0.98      0.88      0.93       153\n",
            "          33       1.00      1.00      1.00       166\n",
            "          34       0.94      1.00      0.97       166\n",
            "          35       1.00      0.37      0.54       150\n",
            "          36       0.85      0.82      0.83       154\n",
            "          37       1.00      1.00      1.00       130\n",
            "          38       1.00      0.80      0.89       156\n",
            "          39       0.99      1.00      0.99       166\n",
            "          40       1.00      0.80      0.89       156\n",
            "          41       1.00      1.00      1.00       234\n",
            "          42       0.88      1.00      0.93        99\n",
            "          43       1.00      1.00      1.00       166\n",
            "          44       0.98      1.00      0.99       328\n",
            "          45       1.00      0.96      0.98       164\n",
            "          46       0.90      1.00      0.95       166\n",
            "          47       1.00      1.00      1.00       166\n",
            "          48       1.00      1.00      1.00       164\n",
            "          49       1.00      1.00      1.00       158\n",
            "          50       1.00      1.00      1.00       166\n",
            "          51       1.00      1.00      1.00       164\n",
            "          52       1.00      1.00      1.00       166\n",
            "          53       0.99      1.00      0.99       157\n",
            "          54       1.00      1.00      1.00       166\n",
            "          55       1.00      1.00      1.00       166\n",
            "          56       0.99      1.00      0.99       156\n",
            "          57       1.00      1.00      1.00       157\n",
            "          58       1.00      1.00      1.00       166\n",
            "          59       1.00      1.00      1.00       164\n",
            "          60       1.00      1.00      1.00       166\n",
            "          61       1.00      0.98      0.99       166\n",
            "          62       1.00      1.00      1.00       166\n",
            "          63       1.00      1.00      1.00       166\n",
            "          64       0.98      1.00      0.99       166\n",
            "          65       1.00      0.98      0.99       142\n",
            "          66       0.91      1.00      0.95       102\n",
            "          67       0.98      0.99      0.99       166\n",
            "          68       1.00      1.00      1.00       246\n",
            "          69       0.99      1.00      1.00       164\n",
            "          70       0.85      0.96      0.90       164\n",
            "          71       0.99      0.92      0.95       160\n",
            "          72       1.00      1.00      1.00       218\n",
            "          73       1.00      0.92      0.96       178\n",
            "          74       0.96      1.00      0.98       150\n",
            "          75       1.00      1.00      1.00       155\n",
            "          76       0.67      1.00      0.80       146\n",
            "          77       1.00      1.00      1.00       160\n",
            "          78       1.00      1.00      1.00       164\n",
            "          79       0.99      1.00      0.99       166\n",
            "          80       1.00      1.00      1.00       164\n",
            "          81       0.82      1.00      0.90       246\n",
            "          82       1.00      1.00      1.00       164\n",
            "          83       1.00      0.93      0.96       164\n",
            "          84       0.98      0.74      0.84       232\n",
            "          85       0.93      0.99      0.96       166\n",
            "          86       0.99      1.00      0.99       234\n",
            "          87       1.00      1.00      1.00       102\n",
            "          88       0.99      1.00      1.00       166\n",
            "          89       0.92      1.00      0.96       222\n",
            "          90       0.99      0.83      0.90       237\n",
            "          91       0.76      1.00      0.86       166\n",
            "          92       1.00      0.87      0.93       166\n",
            "          93       0.99      1.00      0.99       148\n",
            "          94       1.00      0.93      0.96       234\n",
            "          95       0.99      1.00      0.99       222\n",
            "          96       0.88      1.00      0.94       222\n",
            "          97       1.00      1.00      1.00       164\n",
            "          98       0.91      1.00      0.95       164\n",
            "          99       1.00      0.99      1.00       166\n",
            "         100       1.00      1.00      1.00       163\n",
            "         101       0.99      1.00      1.00       166\n",
            "         102       1.00      1.00      1.00       151\n",
            "         103       1.00      1.00      1.00       142\n",
            "         104       0.97      1.00      0.99       304\n",
            "         105       0.96      1.00      0.98       164\n",
            "         106       1.00      1.00      1.00       153\n",
            "         107       0.79      1.00      0.88       150\n",
            "         108       1.00      0.96      0.98       151\n",
            "         109       0.99      0.62      0.76       150\n",
            "         110       1.00      0.99      1.00       150\n",
            "         111       1.00      1.00      1.00       166\n",
            "         112       0.98      0.99      0.99       164\n",
            "         113       1.00      1.00      1.00       166\n",
            "         114       1.00      1.00      1.00       164\n",
            "         115       1.00      1.00      1.00       162\n",
            "         116       1.00      0.96      0.98       164\n",
            "         117       0.97      0.91      0.94       246\n",
            "         118       1.00      1.00      1.00       166\n",
            "         119       0.99      1.00      0.99       166\n",
            "         120       1.00      1.00      1.00       246\n",
            "         121       1.00      1.00      1.00       225\n",
            "         122       0.96      1.00      0.98       246\n",
            "         123       1.00      1.00      1.00       160\n",
            "         124       0.99      1.00      0.99       164\n",
            "         125       1.00      1.00      1.00       228\n",
            "         126       1.00      1.00      1.00       127\n",
            "         127       0.91      1.00      0.95       153\n",
            "         128       0.92      1.00      0.96       158\n",
            "         129       1.00      1.00      1.00       249\n",
            "         130       0.92      1.00      0.96       157\n",
            "\n",
            "    accuracy                           0.96     22688\n",
            "   macro avg       0.97      0.96      0.96     22688\n",
            "weighted avg       0.97      0.96      0.96     22688\n",
            "\n"
          ]
        }
      ]
    },
    {
      "cell_type": "code",
      "source": [
        "import pandas as pd\n",
        "\n",
        "df = pd.read_csv('/content/cf_model_1.csv')"
      ],
      "metadata": {
        "id": "TAj6lNg0P8pp"
      },
      "execution_count": null,
      "outputs": []
    },
    {
      "cell_type": "code",
      "source": [
        "df = df.drop(columns=['Unnamed: 0'])"
      ],
      "metadata": {
        "id": "oTcdapxiQdt6"
      },
      "execution_count": null,
      "outputs": []
    },
    {
      "cell_type": "code",
      "source": [
        "df"
      ],
      "metadata": {
        "colab": {
          "base_uri": "https://localhost:8080/",
          "height": 488
        },
        "id": "PRWcFrPxQmIG",
        "outputId": "5b0e77d1-2908-403c-c77b-e97c72e66860"
      },
      "execution_count": null,
      "outputs": [
        {
          "output_type": "execute_result",
          "data": {
            "text/html": [
              "\n",
              "  <div id=\"df-9d5556f0-a02c-4ee3-ae3b-572e405fab53\">\n",
              "    <div class=\"colab-df-container\">\n",
              "      <div>\n",
              "<style scoped>\n",
              "    .dataframe tbody tr th:only-of-type {\n",
              "        vertical-align: middle;\n",
              "    }\n",
              "\n",
              "    .dataframe tbody tr th {\n",
              "        vertical-align: top;\n",
              "    }\n",
              "\n",
              "    .dataframe thead th {\n",
              "        text-align: right;\n",
              "    }\n",
              "</style>\n",
              "<table border=\"1\" class=\"dataframe\">\n",
              "  <thead>\n",
              "    <tr style=\"text-align: right;\">\n",
              "      <th></th>\n",
              "      <th>0</th>\n",
              "      <th>1</th>\n",
              "      <th>2</th>\n",
              "      <th>3</th>\n",
              "      <th>4</th>\n",
              "      <th>5</th>\n",
              "      <th>6</th>\n",
              "      <th>7</th>\n",
              "      <th>8</th>\n",
              "      <th>9</th>\n",
              "      <th>10</th>\n",
              "      <th>11</th>\n",
              "      <th>12</th>\n",
              "      <th>13</th>\n",
              "      <th>14</th>\n",
              "      <th>15</th>\n",
              "      <th>16</th>\n",
              "      <th>17</th>\n",
              "      <th>18</th>\n",
              "      <th>19</th>\n",
              "      <th>20</th>\n",
              "      <th>21</th>\n",
              "      <th>22</th>\n",
              "      <th>23</th>\n",
              "      <th>24</th>\n",
              "      <th>25</th>\n",
              "      <th>26</th>\n",
              "      <th>27</th>\n",
              "      <th>28</th>\n",
              "      <th>29</th>\n",
              "      <th>30</th>\n",
              "      <th>31</th>\n",
              "      <th>32</th>\n",
              "      <th>33</th>\n",
              "      <th>34</th>\n",
              "      <th>35</th>\n",
              "      <th>36</th>\n",
              "      <th>37</th>\n",
              "      <th>38</th>\n",
              "      <th>39</th>\n",
              "      <th>...</th>\n",
              "      <th>91</th>\n",
              "      <th>92</th>\n",
              "      <th>93</th>\n",
              "      <th>94</th>\n",
              "      <th>95</th>\n",
              "      <th>96</th>\n",
              "      <th>97</th>\n",
              "      <th>98</th>\n",
              "      <th>99</th>\n",
              "      <th>100</th>\n",
              "      <th>101</th>\n",
              "      <th>102</th>\n",
              "      <th>103</th>\n",
              "      <th>104</th>\n",
              "      <th>105</th>\n",
              "      <th>106</th>\n",
              "      <th>107</th>\n",
              "      <th>108</th>\n",
              "      <th>109</th>\n",
              "      <th>110</th>\n",
              "      <th>111</th>\n",
              "      <th>112</th>\n",
              "      <th>113</th>\n",
              "      <th>114</th>\n",
              "      <th>115</th>\n",
              "      <th>116</th>\n",
              "      <th>117</th>\n",
              "      <th>118</th>\n",
              "      <th>119</th>\n",
              "      <th>120</th>\n",
              "      <th>121</th>\n",
              "      <th>122</th>\n",
              "      <th>123</th>\n",
              "      <th>124</th>\n",
              "      <th>125</th>\n",
              "      <th>126</th>\n",
              "      <th>127</th>\n",
              "      <th>128</th>\n",
              "      <th>129</th>\n",
              "      <th>130</th>\n",
              "    </tr>\n",
              "  </thead>\n",
              "  <tbody>\n",
              "    <tr>\n",
              "      <th>0</th>\n",
              "      <td>113</td>\n",
              "      <td>0</td>\n",
              "      <td>0</td>\n",
              "      <td>0</td>\n",
              "      <td>0</td>\n",
              "      <td>0</td>\n",
              "      <td>0</td>\n",
              "      <td>12</td>\n",
              "      <td>9</td>\n",
              "      <td>0</td>\n",
              "      <td>0</td>\n",
              "      <td>0</td>\n",
              "      <td>0</td>\n",
              "      <td>0</td>\n",
              "      <td>0</td>\n",
              "      <td>0</td>\n",
              "      <td>0</td>\n",
              "      <td>0</td>\n",
              "      <td>0</td>\n",
              "      <td>0</td>\n",
              "      <td>0</td>\n",
              "      <td>0</td>\n",
              "      <td>0</td>\n",
              "      <td>0</td>\n",
              "      <td>0</td>\n",
              "      <td>0</td>\n",
              "      <td>0</td>\n",
              "      <td>0</td>\n",
              "      <td>0</td>\n",
              "      <td>0</td>\n",
              "      <td>0</td>\n",
              "      <td>0</td>\n",
              "      <td>0</td>\n",
              "      <td>0</td>\n",
              "      <td>0</td>\n",
              "      <td>0</td>\n",
              "      <td>0</td>\n",
              "      <td>0</td>\n",
              "      <td>0</td>\n",
              "      <td>0</td>\n",
              "      <td>...</td>\n",
              "      <td>0</td>\n",
              "      <td>0</td>\n",
              "      <td>0</td>\n",
              "      <td>0</td>\n",
              "      <td>0</td>\n",
              "      <td>0</td>\n",
              "      <td>0</td>\n",
              "      <td>0</td>\n",
              "      <td>0</td>\n",
              "      <td>0</td>\n",
              "      <td>0</td>\n",
              "      <td>0</td>\n",
              "      <td>0</td>\n",
              "      <td>0</td>\n",
              "      <td>0</td>\n",
              "      <td>0</td>\n",
              "      <td>0</td>\n",
              "      <td>0</td>\n",
              "      <td>0</td>\n",
              "      <td>0</td>\n",
              "      <td>0</td>\n",
              "      <td>0</td>\n",
              "      <td>0</td>\n",
              "      <td>0</td>\n",
              "      <td>0</td>\n",
              "      <td>0</td>\n",
              "      <td>0</td>\n",
              "      <td>0</td>\n",
              "      <td>2</td>\n",
              "      <td>0</td>\n",
              "      <td>0</td>\n",
              "      <td>0</td>\n",
              "      <td>0</td>\n",
              "      <td>0</td>\n",
              "      <td>0</td>\n",
              "      <td>0</td>\n",
              "      <td>0</td>\n",
              "      <td>0</td>\n",
              "      <td>0</td>\n",
              "      <td>0</td>\n",
              "    </tr>\n",
              "    <tr>\n",
              "      <th>1</th>\n",
              "      <td>0</td>\n",
              "      <td>45</td>\n",
              "      <td>0</td>\n",
              "      <td>0</td>\n",
              "      <td>0</td>\n",
              "      <td>0</td>\n",
              "      <td>103</td>\n",
              "      <td>0</td>\n",
              "      <td>0</td>\n",
              "      <td>0</td>\n",
              "      <td>0</td>\n",
              "      <td>0</td>\n",
              "      <td>0</td>\n",
              "      <td>0</td>\n",
              "      <td>0</td>\n",
              "      <td>0</td>\n",
              "      <td>0</td>\n",
              "      <td>0</td>\n",
              "      <td>0</td>\n",
              "      <td>0</td>\n",
              "      <td>0</td>\n",
              "      <td>0</td>\n",
              "      <td>0</td>\n",
              "      <td>0</td>\n",
              "      <td>0</td>\n",
              "      <td>0</td>\n",
              "      <td>0</td>\n",
              "      <td>0</td>\n",
              "      <td>0</td>\n",
              "      <td>0</td>\n",
              "      <td>0</td>\n",
              "      <td>0</td>\n",
              "      <td>0</td>\n",
              "      <td>0</td>\n",
              "      <td>0</td>\n",
              "      <td>0</td>\n",
              "      <td>0</td>\n",
              "      <td>0</td>\n",
              "      <td>0</td>\n",
              "      <td>0</td>\n",
              "      <td>...</td>\n",
              "      <td>0</td>\n",
              "      <td>0</td>\n",
              "      <td>0</td>\n",
              "      <td>0</td>\n",
              "      <td>0</td>\n",
              "      <td>0</td>\n",
              "      <td>0</td>\n",
              "      <td>0</td>\n",
              "      <td>0</td>\n",
              "      <td>0</td>\n",
              "      <td>0</td>\n",
              "      <td>0</td>\n",
              "      <td>0</td>\n",
              "      <td>0</td>\n",
              "      <td>0</td>\n",
              "      <td>0</td>\n",
              "      <td>0</td>\n",
              "      <td>0</td>\n",
              "      <td>0</td>\n",
              "      <td>0</td>\n",
              "      <td>0</td>\n",
              "      <td>0</td>\n",
              "      <td>0</td>\n",
              "      <td>0</td>\n",
              "      <td>0</td>\n",
              "      <td>0</td>\n",
              "      <td>0</td>\n",
              "      <td>0</td>\n",
              "      <td>0</td>\n",
              "      <td>0</td>\n",
              "      <td>0</td>\n",
              "      <td>0</td>\n",
              "      <td>0</td>\n",
              "      <td>0</td>\n",
              "      <td>0</td>\n",
              "      <td>0</td>\n",
              "      <td>0</td>\n",
              "      <td>0</td>\n",
              "      <td>0</td>\n",
              "      <td>0</td>\n",
              "    </tr>\n",
              "    <tr>\n",
              "      <th>2</th>\n",
              "      <td>0</td>\n",
              "      <td>0</td>\n",
              "      <td>137</td>\n",
              "      <td>23</td>\n",
              "      <td>0</td>\n",
              "      <td>0</td>\n",
              "      <td>0</td>\n",
              "      <td>0</td>\n",
              "      <td>0</td>\n",
              "      <td>0</td>\n",
              "      <td>0</td>\n",
              "      <td>0</td>\n",
              "      <td>0</td>\n",
              "      <td>0</td>\n",
              "      <td>0</td>\n",
              "      <td>0</td>\n",
              "      <td>0</td>\n",
              "      <td>0</td>\n",
              "      <td>0</td>\n",
              "      <td>0</td>\n",
              "      <td>0</td>\n",
              "      <td>0</td>\n",
              "      <td>0</td>\n",
              "      <td>0</td>\n",
              "      <td>0</td>\n",
              "      <td>0</td>\n",
              "      <td>0</td>\n",
              "      <td>0</td>\n",
              "      <td>0</td>\n",
              "      <td>0</td>\n",
              "      <td>0</td>\n",
              "      <td>0</td>\n",
              "      <td>0</td>\n",
              "      <td>0</td>\n",
              "      <td>0</td>\n",
              "      <td>0</td>\n",
              "      <td>0</td>\n",
              "      <td>0</td>\n",
              "      <td>0</td>\n",
              "      <td>0</td>\n",
              "      <td>...</td>\n",
              "      <td>0</td>\n",
              "      <td>0</td>\n",
              "      <td>0</td>\n",
              "      <td>0</td>\n",
              "      <td>0</td>\n",
              "      <td>0</td>\n",
              "      <td>0</td>\n",
              "      <td>0</td>\n",
              "      <td>0</td>\n",
              "      <td>0</td>\n",
              "      <td>0</td>\n",
              "      <td>0</td>\n",
              "      <td>0</td>\n",
              "      <td>0</td>\n",
              "      <td>0</td>\n",
              "      <td>0</td>\n",
              "      <td>0</td>\n",
              "      <td>0</td>\n",
              "      <td>0</td>\n",
              "      <td>0</td>\n",
              "      <td>0</td>\n",
              "      <td>0</td>\n",
              "      <td>0</td>\n",
              "      <td>0</td>\n",
              "      <td>0</td>\n",
              "      <td>0</td>\n",
              "      <td>0</td>\n",
              "      <td>0</td>\n",
              "      <td>0</td>\n",
              "      <td>0</td>\n",
              "      <td>0</td>\n",
              "      <td>0</td>\n",
              "      <td>0</td>\n",
              "      <td>0</td>\n",
              "      <td>0</td>\n",
              "      <td>0</td>\n",
              "      <td>0</td>\n",
              "      <td>0</td>\n",
              "      <td>0</td>\n",
              "      <td>0</td>\n",
              "    </tr>\n",
              "    <tr>\n",
              "      <th>3</th>\n",
              "      <td>0</td>\n",
              "      <td>0</td>\n",
              "      <td>0</td>\n",
              "      <td>164</td>\n",
              "      <td>0</td>\n",
              "      <td>0</td>\n",
              "      <td>0</td>\n",
              "      <td>0</td>\n",
              "      <td>0</td>\n",
              "      <td>0</td>\n",
              "      <td>0</td>\n",
              "      <td>0</td>\n",
              "      <td>0</td>\n",
              "      <td>0</td>\n",
              "      <td>0</td>\n",
              "      <td>0</td>\n",
              "      <td>0</td>\n",
              "      <td>0</td>\n",
              "      <td>0</td>\n",
              "      <td>0</td>\n",
              "      <td>0</td>\n",
              "      <td>0</td>\n",
              "      <td>0</td>\n",
              "      <td>0</td>\n",
              "      <td>0</td>\n",
              "      <td>0</td>\n",
              "      <td>0</td>\n",
              "      <td>0</td>\n",
              "      <td>0</td>\n",
              "      <td>0</td>\n",
              "      <td>0</td>\n",
              "      <td>0</td>\n",
              "      <td>0</td>\n",
              "      <td>0</td>\n",
              "      <td>0</td>\n",
              "      <td>0</td>\n",
              "      <td>0</td>\n",
              "      <td>0</td>\n",
              "      <td>0</td>\n",
              "      <td>0</td>\n",
              "      <td>...</td>\n",
              "      <td>0</td>\n",
              "      <td>0</td>\n",
              "      <td>0</td>\n",
              "      <td>0</td>\n",
              "      <td>0</td>\n",
              "      <td>0</td>\n",
              "      <td>0</td>\n",
              "      <td>0</td>\n",
              "      <td>0</td>\n",
              "      <td>0</td>\n",
              "      <td>0</td>\n",
              "      <td>0</td>\n",
              "      <td>0</td>\n",
              "      <td>0</td>\n",
              "      <td>0</td>\n",
              "      <td>0</td>\n",
              "      <td>0</td>\n",
              "      <td>0</td>\n",
              "      <td>0</td>\n",
              "      <td>0</td>\n",
              "      <td>0</td>\n",
              "      <td>0</td>\n",
              "      <td>0</td>\n",
              "      <td>0</td>\n",
              "      <td>0</td>\n",
              "      <td>0</td>\n",
              "      <td>0</td>\n",
              "      <td>0</td>\n",
              "      <td>0</td>\n",
              "      <td>0</td>\n",
              "      <td>0</td>\n",
              "      <td>0</td>\n",
              "      <td>0</td>\n",
              "      <td>0</td>\n",
              "      <td>0</td>\n",
              "      <td>0</td>\n",
              "      <td>0</td>\n",
              "      <td>0</td>\n",
              "      <td>0</td>\n",
              "      <td>0</td>\n",
              "    </tr>\n",
              "    <tr>\n",
              "      <th>4</th>\n",
              "      <td>0</td>\n",
              "      <td>0</td>\n",
              "      <td>0</td>\n",
              "      <td>0</td>\n",
              "      <td>161</td>\n",
              "      <td>0</td>\n",
              "      <td>0</td>\n",
              "      <td>0</td>\n",
              "      <td>0</td>\n",
              "      <td>0</td>\n",
              "      <td>0</td>\n",
              "      <td>0</td>\n",
              "      <td>0</td>\n",
              "      <td>0</td>\n",
              "      <td>0</td>\n",
              "      <td>0</td>\n",
              "      <td>0</td>\n",
              "      <td>0</td>\n",
              "      <td>0</td>\n",
              "      <td>0</td>\n",
              "      <td>0</td>\n",
              "      <td>0</td>\n",
              "      <td>0</td>\n",
              "      <td>0</td>\n",
              "      <td>0</td>\n",
              "      <td>0</td>\n",
              "      <td>0</td>\n",
              "      <td>0</td>\n",
              "      <td>0</td>\n",
              "      <td>0</td>\n",
              "      <td>0</td>\n",
              "      <td>0</td>\n",
              "      <td>0</td>\n",
              "      <td>0</td>\n",
              "      <td>0</td>\n",
              "      <td>0</td>\n",
              "      <td>0</td>\n",
              "      <td>0</td>\n",
              "      <td>0</td>\n",
              "      <td>0</td>\n",
              "      <td>...</td>\n",
              "      <td>0</td>\n",
              "      <td>0</td>\n",
              "      <td>0</td>\n",
              "      <td>0</td>\n",
              "      <td>0</td>\n",
              "      <td>0</td>\n",
              "      <td>0</td>\n",
              "      <td>0</td>\n",
              "      <td>0</td>\n",
              "      <td>0</td>\n",
              "      <td>0</td>\n",
              "      <td>0</td>\n",
              "      <td>0</td>\n",
              "      <td>0</td>\n",
              "      <td>0</td>\n",
              "      <td>0</td>\n",
              "      <td>0</td>\n",
              "      <td>0</td>\n",
              "      <td>0</td>\n",
              "      <td>0</td>\n",
              "      <td>0</td>\n",
              "      <td>0</td>\n",
              "      <td>0</td>\n",
              "      <td>0</td>\n",
              "      <td>0</td>\n",
              "      <td>0</td>\n",
              "      <td>0</td>\n",
              "      <td>0</td>\n",
              "      <td>0</td>\n",
              "      <td>0</td>\n",
              "      <td>0</td>\n",
              "      <td>0</td>\n",
              "      <td>0</td>\n",
              "      <td>0</td>\n",
              "      <td>0</td>\n",
              "      <td>0</td>\n",
              "      <td>0</td>\n",
              "      <td>0</td>\n",
              "      <td>0</td>\n",
              "      <td>0</td>\n",
              "    </tr>\n",
              "    <tr>\n",
              "      <th>...</th>\n",
              "      <td>...</td>\n",
              "      <td>...</td>\n",
              "      <td>...</td>\n",
              "      <td>...</td>\n",
              "      <td>...</td>\n",
              "      <td>...</td>\n",
              "      <td>...</td>\n",
              "      <td>...</td>\n",
              "      <td>...</td>\n",
              "      <td>...</td>\n",
              "      <td>...</td>\n",
              "      <td>...</td>\n",
              "      <td>...</td>\n",
              "      <td>...</td>\n",
              "      <td>...</td>\n",
              "      <td>...</td>\n",
              "      <td>...</td>\n",
              "      <td>...</td>\n",
              "      <td>...</td>\n",
              "      <td>...</td>\n",
              "      <td>...</td>\n",
              "      <td>...</td>\n",
              "      <td>...</td>\n",
              "      <td>...</td>\n",
              "      <td>...</td>\n",
              "      <td>...</td>\n",
              "      <td>...</td>\n",
              "      <td>...</td>\n",
              "      <td>...</td>\n",
              "      <td>...</td>\n",
              "      <td>...</td>\n",
              "      <td>...</td>\n",
              "      <td>...</td>\n",
              "      <td>...</td>\n",
              "      <td>...</td>\n",
              "      <td>...</td>\n",
              "      <td>...</td>\n",
              "      <td>...</td>\n",
              "      <td>...</td>\n",
              "      <td>...</td>\n",
              "      <td>...</td>\n",
              "      <td>...</td>\n",
              "      <td>...</td>\n",
              "      <td>...</td>\n",
              "      <td>...</td>\n",
              "      <td>...</td>\n",
              "      <td>...</td>\n",
              "      <td>...</td>\n",
              "      <td>...</td>\n",
              "      <td>...</td>\n",
              "      <td>...</td>\n",
              "      <td>...</td>\n",
              "      <td>...</td>\n",
              "      <td>...</td>\n",
              "      <td>...</td>\n",
              "      <td>...</td>\n",
              "      <td>...</td>\n",
              "      <td>...</td>\n",
              "      <td>...</td>\n",
              "      <td>...</td>\n",
              "      <td>...</td>\n",
              "      <td>...</td>\n",
              "      <td>...</td>\n",
              "      <td>...</td>\n",
              "      <td>...</td>\n",
              "      <td>...</td>\n",
              "      <td>...</td>\n",
              "      <td>...</td>\n",
              "      <td>...</td>\n",
              "      <td>...</td>\n",
              "      <td>...</td>\n",
              "      <td>...</td>\n",
              "      <td>...</td>\n",
              "      <td>...</td>\n",
              "      <td>...</td>\n",
              "      <td>...</td>\n",
              "      <td>...</td>\n",
              "      <td>...</td>\n",
              "      <td>...</td>\n",
              "      <td>...</td>\n",
              "      <td>...</td>\n",
              "    </tr>\n",
              "    <tr>\n",
              "      <th>126</th>\n",
              "      <td>0</td>\n",
              "      <td>0</td>\n",
              "      <td>0</td>\n",
              "      <td>0</td>\n",
              "      <td>0</td>\n",
              "      <td>0</td>\n",
              "      <td>0</td>\n",
              "      <td>0</td>\n",
              "      <td>0</td>\n",
              "      <td>0</td>\n",
              "      <td>0</td>\n",
              "      <td>0</td>\n",
              "      <td>0</td>\n",
              "      <td>0</td>\n",
              "      <td>0</td>\n",
              "      <td>0</td>\n",
              "      <td>0</td>\n",
              "      <td>0</td>\n",
              "      <td>0</td>\n",
              "      <td>0</td>\n",
              "      <td>0</td>\n",
              "      <td>0</td>\n",
              "      <td>0</td>\n",
              "      <td>0</td>\n",
              "      <td>0</td>\n",
              "      <td>0</td>\n",
              "      <td>0</td>\n",
              "      <td>0</td>\n",
              "      <td>0</td>\n",
              "      <td>0</td>\n",
              "      <td>0</td>\n",
              "      <td>0</td>\n",
              "      <td>0</td>\n",
              "      <td>0</td>\n",
              "      <td>0</td>\n",
              "      <td>0</td>\n",
              "      <td>0</td>\n",
              "      <td>0</td>\n",
              "      <td>0</td>\n",
              "      <td>0</td>\n",
              "      <td>...</td>\n",
              "      <td>0</td>\n",
              "      <td>0</td>\n",
              "      <td>0</td>\n",
              "      <td>0</td>\n",
              "      <td>0</td>\n",
              "      <td>0</td>\n",
              "      <td>0</td>\n",
              "      <td>0</td>\n",
              "      <td>0</td>\n",
              "      <td>0</td>\n",
              "      <td>0</td>\n",
              "      <td>0</td>\n",
              "      <td>0</td>\n",
              "      <td>0</td>\n",
              "      <td>0</td>\n",
              "      <td>0</td>\n",
              "      <td>0</td>\n",
              "      <td>0</td>\n",
              "      <td>0</td>\n",
              "      <td>0</td>\n",
              "      <td>0</td>\n",
              "      <td>0</td>\n",
              "      <td>0</td>\n",
              "      <td>0</td>\n",
              "      <td>0</td>\n",
              "      <td>0</td>\n",
              "      <td>0</td>\n",
              "      <td>0</td>\n",
              "      <td>0</td>\n",
              "      <td>0</td>\n",
              "      <td>0</td>\n",
              "      <td>0</td>\n",
              "      <td>0</td>\n",
              "      <td>0</td>\n",
              "      <td>0</td>\n",
              "      <td>127</td>\n",
              "      <td>0</td>\n",
              "      <td>0</td>\n",
              "      <td>0</td>\n",
              "      <td>0</td>\n",
              "    </tr>\n",
              "    <tr>\n",
              "      <th>127</th>\n",
              "      <td>0</td>\n",
              "      <td>0</td>\n",
              "      <td>0</td>\n",
              "      <td>0</td>\n",
              "      <td>0</td>\n",
              "      <td>0</td>\n",
              "      <td>0</td>\n",
              "      <td>0</td>\n",
              "      <td>0</td>\n",
              "      <td>0</td>\n",
              "      <td>0</td>\n",
              "      <td>0</td>\n",
              "      <td>0</td>\n",
              "      <td>0</td>\n",
              "      <td>0</td>\n",
              "      <td>0</td>\n",
              "      <td>0</td>\n",
              "      <td>0</td>\n",
              "      <td>0</td>\n",
              "      <td>0</td>\n",
              "      <td>0</td>\n",
              "      <td>0</td>\n",
              "      <td>0</td>\n",
              "      <td>0</td>\n",
              "      <td>0</td>\n",
              "      <td>0</td>\n",
              "      <td>0</td>\n",
              "      <td>0</td>\n",
              "      <td>0</td>\n",
              "      <td>0</td>\n",
              "      <td>0</td>\n",
              "      <td>0</td>\n",
              "      <td>0</td>\n",
              "      <td>0</td>\n",
              "      <td>0</td>\n",
              "      <td>0</td>\n",
              "      <td>0</td>\n",
              "      <td>0</td>\n",
              "      <td>0</td>\n",
              "      <td>0</td>\n",
              "      <td>...</td>\n",
              "      <td>0</td>\n",
              "      <td>0</td>\n",
              "      <td>0</td>\n",
              "      <td>0</td>\n",
              "      <td>0</td>\n",
              "      <td>0</td>\n",
              "      <td>0</td>\n",
              "      <td>0</td>\n",
              "      <td>0</td>\n",
              "      <td>0</td>\n",
              "      <td>0</td>\n",
              "      <td>0</td>\n",
              "      <td>0</td>\n",
              "      <td>0</td>\n",
              "      <td>0</td>\n",
              "      <td>0</td>\n",
              "      <td>0</td>\n",
              "      <td>0</td>\n",
              "      <td>0</td>\n",
              "      <td>0</td>\n",
              "      <td>0</td>\n",
              "      <td>0</td>\n",
              "      <td>0</td>\n",
              "      <td>0</td>\n",
              "      <td>0</td>\n",
              "      <td>0</td>\n",
              "      <td>0</td>\n",
              "      <td>0</td>\n",
              "      <td>0</td>\n",
              "      <td>0</td>\n",
              "      <td>0</td>\n",
              "      <td>0</td>\n",
              "      <td>0</td>\n",
              "      <td>0</td>\n",
              "      <td>0</td>\n",
              "      <td>0</td>\n",
              "      <td>153</td>\n",
              "      <td>0</td>\n",
              "      <td>0</td>\n",
              "      <td>0</td>\n",
              "    </tr>\n",
              "    <tr>\n",
              "      <th>128</th>\n",
              "      <td>0</td>\n",
              "      <td>0</td>\n",
              "      <td>0</td>\n",
              "      <td>0</td>\n",
              "      <td>0</td>\n",
              "      <td>0</td>\n",
              "      <td>0</td>\n",
              "      <td>0</td>\n",
              "      <td>0</td>\n",
              "      <td>0</td>\n",
              "      <td>0</td>\n",
              "      <td>0</td>\n",
              "      <td>0</td>\n",
              "      <td>0</td>\n",
              "      <td>0</td>\n",
              "      <td>0</td>\n",
              "      <td>0</td>\n",
              "      <td>0</td>\n",
              "      <td>0</td>\n",
              "      <td>0</td>\n",
              "      <td>0</td>\n",
              "      <td>0</td>\n",
              "      <td>0</td>\n",
              "      <td>0</td>\n",
              "      <td>0</td>\n",
              "      <td>0</td>\n",
              "      <td>0</td>\n",
              "      <td>0</td>\n",
              "      <td>0</td>\n",
              "      <td>0</td>\n",
              "      <td>0</td>\n",
              "      <td>0</td>\n",
              "      <td>0</td>\n",
              "      <td>0</td>\n",
              "      <td>0</td>\n",
              "      <td>0</td>\n",
              "      <td>0</td>\n",
              "      <td>0</td>\n",
              "      <td>0</td>\n",
              "      <td>0</td>\n",
              "      <td>...</td>\n",
              "      <td>0</td>\n",
              "      <td>0</td>\n",
              "      <td>0</td>\n",
              "      <td>0</td>\n",
              "      <td>0</td>\n",
              "      <td>0</td>\n",
              "      <td>0</td>\n",
              "      <td>0</td>\n",
              "      <td>0</td>\n",
              "      <td>0</td>\n",
              "      <td>0</td>\n",
              "      <td>0</td>\n",
              "      <td>0</td>\n",
              "      <td>0</td>\n",
              "      <td>0</td>\n",
              "      <td>0</td>\n",
              "      <td>0</td>\n",
              "      <td>0</td>\n",
              "      <td>0</td>\n",
              "      <td>0</td>\n",
              "      <td>0</td>\n",
              "      <td>0</td>\n",
              "      <td>0</td>\n",
              "      <td>0</td>\n",
              "      <td>0</td>\n",
              "      <td>0</td>\n",
              "      <td>0</td>\n",
              "      <td>0</td>\n",
              "      <td>0</td>\n",
              "      <td>0</td>\n",
              "      <td>0</td>\n",
              "      <td>0</td>\n",
              "      <td>0</td>\n",
              "      <td>0</td>\n",
              "      <td>0</td>\n",
              "      <td>0</td>\n",
              "      <td>0</td>\n",
              "      <td>158</td>\n",
              "      <td>0</td>\n",
              "      <td>0</td>\n",
              "    </tr>\n",
              "    <tr>\n",
              "      <th>129</th>\n",
              "      <td>0</td>\n",
              "      <td>0</td>\n",
              "      <td>0</td>\n",
              "      <td>0</td>\n",
              "      <td>0</td>\n",
              "      <td>0</td>\n",
              "      <td>0</td>\n",
              "      <td>0</td>\n",
              "      <td>0</td>\n",
              "      <td>0</td>\n",
              "      <td>0</td>\n",
              "      <td>0</td>\n",
              "      <td>0</td>\n",
              "      <td>0</td>\n",
              "      <td>0</td>\n",
              "      <td>0</td>\n",
              "      <td>0</td>\n",
              "      <td>0</td>\n",
              "      <td>0</td>\n",
              "      <td>0</td>\n",
              "      <td>0</td>\n",
              "      <td>0</td>\n",
              "      <td>0</td>\n",
              "      <td>0</td>\n",
              "      <td>0</td>\n",
              "      <td>0</td>\n",
              "      <td>0</td>\n",
              "      <td>0</td>\n",
              "      <td>0</td>\n",
              "      <td>0</td>\n",
              "      <td>0</td>\n",
              "      <td>0</td>\n",
              "      <td>0</td>\n",
              "      <td>0</td>\n",
              "      <td>0</td>\n",
              "      <td>0</td>\n",
              "      <td>0</td>\n",
              "      <td>0</td>\n",
              "      <td>0</td>\n",
              "      <td>0</td>\n",
              "      <td>...</td>\n",
              "      <td>0</td>\n",
              "      <td>0</td>\n",
              "      <td>0</td>\n",
              "      <td>0</td>\n",
              "      <td>0</td>\n",
              "      <td>0</td>\n",
              "      <td>0</td>\n",
              "      <td>0</td>\n",
              "      <td>0</td>\n",
              "      <td>0</td>\n",
              "      <td>0</td>\n",
              "      <td>0</td>\n",
              "      <td>0</td>\n",
              "      <td>0</td>\n",
              "      <td>0</td>\n",
              "      <td>0</td>\n",
              "      <td>0</td>\n",
              "      <td>0</td>\n",
              "      <td>0</td>\n",
              "      <td>0</td>\n",
              "      <td>0</td>\n",
              "      <td>0</td>\n",
              "      <td>0</td>\n",
              "      <td>0</td>\n",
              "      <td>0</td>\n",
              "      <td>0</td>\n",
              "      <td>0</td>\n",
              "      <td>0</td>\n",
              "      <td>0</td>\n",
              "      <td>0</td>\n",
              "      <td>0</td>\n",
              "      <td>0</td>\n",
              "      <td>0</td>\n",
              "      <td>0</td>\n",
              "      <td>0</td>\n",
              "      <td>0</td>\n",
              "      <td>0</td>\n",
              "      <td>0</td>\n",
              "      <td>249</td>\n",
              "      <td>0</td>\n",
              "    </tr>\n",
              "    <tr>\n",
              "      <th>130</th>\n",
              "      <td>0</td>\n",
              "      <td>0</td>\n",
              "      <td>0</td>\n",
              "      <td>0</td>\n",
              "      <td>0</td>\n",
              "      <td>0</td>\n",
              "      <td>0</td>\n",
              "      <td>0</td>\n",
              "      <td>0</td>\n",
              "      <td>0</td>\n",
              "      <td>0</td>\n",
              "      <td>0</td>\n",
              "      <td>0</td>\n",
              "      <td>0</td>\n",
              "      <td>0</td>\n",
              "      <td>0</td>\n",
              "      <td>0</td>\n",
              "      <td>0</td>\n",
              "      <td>0</td>\n",
              "      <td>0</td>\n",
              "      <td>0</td>\n",
              "      <td>0</td>\n",
              "      <td>0</td>\n",
              "      <td>0</td>\n",
              "      <td>0</td>\n",
              "      <td>0</td>\n",
              "      <td>0</td>\n",
              "      <td>0</td>\n",
              "      <td>0</td>\n",
              "      <td>0</td>\n",
              "      <td>0</td>\n",
              "      <td>0</td>\n",
              "      <td>0</td>\n",
              "      <td>0</td>\n",
              "      <td>0</td>\n",
              "      <td>0</td>\n",
              "      <td>0</td>\n",
              "      <td>0</td>\n",
              "      <td>0</td>\n",
              "      <td>0</td>\n",
              "      <td>...</td>\n",
              "      <td>0</td>\n",
              "      <td>0</td>\n",
              "      <td>0</td>\n",
              "      <td>0</td>\n",
              "      <td>0</td>\n",
              "      <td>0</td>\n",
              "      <td>0</td>\n",
              "      <td>0</td>\n",
              "      <td>0</td>\n",
              "      <td>0</td>\n",
              "      <td>0</td>\n",
              "      <td>0</td>\n",
              "      <td>0</td>\n",
              "      <td>0</td>\n",
              "      <td>0</td>\n",
              "      <td>0</td>\n",
              "      <td>0</td>\n",
              "      <td>0</td>\n",
              "      <td>0</td>\n",
              "      <td>0</td>\n",
              "      <td>0</td>\n",
              "      <td>0</td>\n",
              "      <td>0</td>\n",
              "      <td>0</td>\n",
              "      <td>0</td>\n",
              "      <td>0</td>\n",
              "      <td>0</td>\n",
              "      <td>0</td>\n",
              "      <td>0</td>\n",
              "      <td>0</td>\n",
              "      <td>0</td>\n",
              "      <td>0</td>\n",
              "      <td>0</td>\n",
              "      <td>0</td>\n",
              "      <td>0</td>\n",
              "      <td>0</td>\n",
              "      <td>0</td>\n",
              "      <td>0</td>\n",
              "      <td>0</td>\n",
              "      <td>157</td>\n",
              "    </tr>\n",
              "  </tbody>\n",
              "</table>\n",
              "<p>131 rows × 131 columns</p>\n",
              "</div>\n",
              "      <button class=\"colab-df-convert\" onclick=\"convertToInteractive('df-9d5556f0-a02c-4ee3-ae3b-572e405fab53')\"\n",
              "              title=\"Convert this dataframe to an interactive table.\"\n",
              "              style=\"display:none;\">\n",
              "        \n",
              "  <svg xmlns=\"http://www.w3.org/2000/svg\" height=\"24px\"viewBox=\"0 0 24 24\"\n",
              "       width=\"24px\">\n",
              "    <path d=\"M0 0h24v24H0V0z\" fill=\"none\"/>\n",
              "    <path d=\"M18.56 5.44l.94 2.06.94-2.06 2.06-.94-2.06-.94-.94-2.06-.94 2.06-2.06.94zm-11 1L8.5 8.5l.94-2.06 2.06-.94-2.06-.94L8.5 2.5l-.94 2.06-2.06.94zm10 10l.94 2.06.94-2.06 2.06-.94-2.06-.94-.94-2.06-.94 2.06-2.06.94z\"/><path d=\"M17.41 7.96l-1.37-1.37c-.4-.4-.92-.59-1.43-.59-.52 0-1.04.2-1.43.59L10.3 9.45l-7.72 7.72c-.78.78-.78 2.05 0 2.83L4 21.41c.39.39.9.59 1.41.59.51 0 1.02-.2 1.41-.59l7.78-7.78 2.81-2.81c.8-.78.8-2.07 0-2.86zM5.41 20L4 18.59l7.72-7.72 1.47 1.35L5.41 20z\"/>\n",
              "  </svg>\n",
              "      </button>\n",
              "      \n",
              "  <style>\n",
              "    .colab-df-container {\n",
              "      display:flex;\n",
              "      flex-wrap:wrap;\n",
              "      gap: 12px;\n",
              "    }\n",
              "\n",
              "    .colab-df-convert {\n",
              "      background-color: #E8F0FE;\n",
              "      border: none;\n",
              "      border-radius: 50%;\n",
              "      cursor: pointer;\n",
              "      display: none;\n",
              "      fill: #1967D2;\n",
              "      height: 32px;\n",
              "      padding: 0 0 0 0;\n",
              "      width: 32px;\n",
              "    }\n",
              "\n",
              "    .colab-df-convert:hover {\n",
              "      background-color: #E2EBFA;\n",
              "      box-shadow: 0px 1px 2px rgba(60, 64, 67, 0.3), 0px 1px 3px 1px rgba(60, 64, 67, 0.15);\n",
              "      fill: #174EA6;\n",
              "    }\n",
              "\n",
              "    [theme=dark] .colab-df-convert {\n",
              "      background-color: #3B4455;\n",
              "      fill: #D2E3FC;\n",
              "    }\n",
              "\n",
              "    [theme=dark] .colab-df-convert:hover {\n",
              "      background-color: #434B5C;\n",
              "      box-shadow: 0px 1px 3px 1px rgba(0, 0, 0, 0.15);\n",
              "      filter: drop-shadow(0px 1px 2px rgba(0, 0, 0, 0.3));\n",
              "      fill: #FFFFFF;\n",
              "    }\n",
              "  </style>\n",
              "\n",
              "      <script>\n",
              "        const buttonEl =\n",
              "          document.querySelector('#df-9d5556f0-a02c-4ee3-ae3b-572e405fab53 button.colab-df-convert');\n",
              "        buttonEl.style.display =\n",
              "          google.colab.kernel.accessAllowed ? 'block' : 'none';\n",
              "\n",
              "        async function convertToInteractive(key) {\n",
              "          const element = document.querySelector('#df-9d5556f0-a02c-4ee3-ae3b-572e405fab53');\n",
              "          const dataTable =\n",
              "            await google.colab.kernel.invokeFunction('convertToInteractive',\n",
              "                                                     [key], {});\n",
              "          if (!dataTable) return;\n",
              "\n",
              "          const docLinkHtml = 'Like what you see? Visit the ' +\n",
              "            '<a target=\"_blank\" href=https://colab.research.google.com/notebooks/data_table.ipynb>data table notebook</a>'\n",
              "            + ' to learn more about interactive tables.';\n",
              "          element.innerHTML = '';\n",
              "          dataTable['output_type'] = 'display_data';\n",
              "          await google.colab.output.renderOutput(dataTable, element);\n",
              "          const docLink = document.createElement('div');\n",
              "          docLink.innerHTML = docLinkHtml;\n",
              "          element.appendChild(docLink);\n",
              "        }\n",
              "      </script>\n",
              "    </div>\n",
              "  </div>\n",
              "  "
            ],
            "text/plain": [
              "       0   1    2    3    4  5    6   7  ...  123  124  125  126  127  128  129  130\n",
              "0    113   0    0    0    0  0    0  12  ...    0    0    0    0    0    0    0    0\n",
              "1      0  45    0    0    0  0  103   0  ...    0    0    0    0    0    0    0    0\n",
              "2      0   0  137   23    0  0    0   0  ...    0    0    0    0    0    0    0    0\n",
              "3      0   0    0  164    0  0    0   0  ...    0    0    0    0    0    0    0    0\n",
              "4      0   0    0    0  161  0    0   0  ...    0    0    0    0    0    0    0    0\n",
              "..   ...  ..  ...  ...  ... ..  ...  ..  ...  ...  ...  ...  ...  ...  ...  ...  ...\n",
              "126    0   0    0    0    0  0    0   0  ...    0    0    0  127    0    0    0    0\n",
              "127    0   0    0    0    0  0    0   0  ...    0    0    0    0  153    0    0    0\n",
              "128    0   0    0    0    0  0    0   0  ...    0    0    0    0    0  158    0    0\n",
              "129    0   0    0    0    0  0    0   0  ...    0    0    0    0    0    0  249    0\n",
              "130    0   0    0    0    0  0    0   0  ...    0    0    0    0    0    0    0  157\n",
              "\n",
              "[131 rows x 131 columns]"
            ]
          },
          "metadata": {},
          "execution_count": 6
        }
      ]
    },
    {
      "cell_type": "code",
      "source": [
        "df.to_excel('cf_model_1.xlsx')"
      ],
      "metadata": {
        "id": "WzGSCDasQJLJ"
      },
      "execution_count": null,
      "outputs": []
    }
  ]
}