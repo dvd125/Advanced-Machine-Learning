{
  "nbformat": 4,
  "nbformat_minor": 0,
  "metadata": {
    "colab": {
      "name": "Model_Transfer_Learning.ipynb",
      "provenance": [],
      "collapsed_sections": []
    },
    "kernelspec": {
      "name": "python3",
      "display_name": "Python 3"
    },
    "accelerator": "GPU"
  },
  "cells": [
    {
      "cell_type": "markdown",
      "source": [
        "# **ADVANCED MACHINE LEARNING FINAL PROJECT**\n",
        "\n",
        "##### Authors: Dario Della Mura - David Doci\n",
        "\n",
        "##### Course: Advanced Machine Learning\n",
        "\n",
        "##### Master's Degree: Data Science\n",
        "\n",
        "##### Anno accademico: 2020/2021"
      ],
      "metadata": {
        "id": "VL7UvY_pnRDT"
      }
    },
    {
      "cell_type": "markdown",
      "source": [
        "Setting Colab GPU environment"
      ],
      "metadata": {
        "id": "AID88OL7xIbV"
      }
    },
    {
      "cell_type": "code",
      "source": [
        "gpu_info = !nvidia-smi\n",
        "gpu_info = '\\n'.join(gpu_info)\n",
        "if gpu_info.find('failed') >= 0:\n",
        "  print('Select the Runtime > \"Change runtime type\" menu to enable a GPU accelerator, ')\n",
        "  print('and then re-execute this cell.')\n",
        "else:\n",
        "  print(gpu_info)"
      ],
      "metadata": {
        "colab": {
          "base_uri": "https://localhost:8080/"
        },
        "id": "l8Y7JcjKwW6-",
        "outputId": "7d5d93a4-0f4d-4eca-c50b-3c7e7b2efd15"
      },
      "execution_count": null,
      "outputs": [
        {
          "output_type": "stream",
          "name": "stdout",
          "text": [
            "Thu Feb 10 01:51:20 2022       \n",
            "+-----------------------------------------------------------------------------+\n",
            "| NVIDIA-SMI 460.32.03    Driver Version: 460.32.03    CUDA Version: 11.2     |\n",
            "|-------------------------------+----------------------+----------------------+\n",
            "| GPU  Name        Persistence-M| Bus-Id        Disp.A | Volatile Uncorr. ECC |\n",
            "| Fan  Temp  Perf  Pwr:Usage/Cap|         Memory-Usage | GPU-Util  Compute M. |\n",
            "|                               |                      |               MIG M. |\n",
            "|===============================+======================+======================|\n",
            "|   0  Tesla K80           Off  | 00000000:00:04.0 Off |                    0 |\n",
            "| N/A   59C    P8    70W / 149W |      0MiB / 11441MiB |      0%      Default |\n",
            "|                               |                      |                  N/A |\n",
            "+-------------------------------+----------------------+----------------------+\n",
            "                                                                               \n",
            "+-----------------------------------------------------------------------------+\n",
            "| Processes:                                                                  |\n",
            "|  GPU   GI   CI        PID   Type   Process name                  GPU Memory |\n",
            "|        ID   ID                                                   Usage      |\n",
            "|=============================================================================|\n",
            "|  No running processes found                                                 |\n",
            "+-----------------------------------------------------------------------------+\n"
          ]
        }
      ]
    },
    {
      "cell_type": "code",
      "source": [
        "from psutil import virtual_memory\n",
        "ram_gb = virtual_memory().total / 1e9\n",
        "print('Your runtime has {:.1f} gigabytes of available RAM\\n'.format(ram_gb))\n",
        "\n",
        "if ram_gb < 20:\n",
        "  print('To enable a high-RAM runtime, select the Runtime > \"Change runtime type\"')\n",
        "  print('menu, and then select High-RAM in the Runtime shape dropdown. Then, ')\n",
        "  print('re-execute this cell.')\n",
        "else:\n",
        "  print('You are using a high-RAM runtime!')"
      ],
      "metadata": {
        "colab": {
          "base_uri": "https://localhost:8080/"
        },
        "id": "-VhqdhScwYz3",
        "outputId": "d3538fa5-367f-4932-bf51-7bdc0963db76"
      },
      "execution_count": null,
      "outputs": [
        {
          "output_type": "stream",
          "name": "stdout",
          "text": [
            "Your runtime has 13.6 gigabytes of available RAM\n",
            "\n",
            "To enable a high-RAM runtime, select the Runtime > \"Change runtime type\"\n",
            "menu, and then select High-RAM in the Runtime shape dropdown. Then, \n",
            "re-execute this cell.\n"
          ]
        }
      ]
    },
    {
      "cell_type": "code",
      "source": [
        "import tensorflow as tf\n",
        "device_name = tf.test.gpu_device_name()\n",
        "if device_name != '/device:GPU:0':\n",
        "  raise SystemError('GPU device not found')\n",
        "print('Found GPU at: {}'.format(device_name))"
      ],
      "metadata": {
        "colab": {
          "base_uri": "https://localhost:8080/"
        },
        "id": "NPXdNmg6wbHF",
        "outputId": "b41f505e-4f0a-4cb0-b3bd-5e42cd83b5d6"
      },
      "execution_count": null,
      "outputs": [
        {
          "output_type": "stream",
          "name": "stdout",
          "text": [
            "Found GPU at: /device:GPU:0\n"
          ]
        }
      ]
    },
    {
      "cell_type": "markdown",
      "source": [
        "## Import Librerie e Dataset"
      ],
      "metadata": {
        "id": "z3uJSZ-5nYIH"
      }
    },
    {
      "cell_type": "code",
      "source": [
        "# import Fruits-360 dataset from Github\n",
        "\n",
        "!git clone 'https://github.com/Horea94/Fruit-Images-Dataset.git'"
      ],
      "metadata": {
        "colab": {
          "base_uri": "https://localhost:8080/"
        },
        "id": "YLWbBPNMnaaT",
        "outputId": "2ed0d321-0c9b-4082-a9cb-fc4f564b39b2"
      },
      "execution_count": null,
      "outputs": [
        {
          "output_type": "stream",
          "name": "stdout",
          "text": [
            "Cloning into 'Fruit-Images-Dataset'...\n",
            "remote: Enumerating objects: 385858, done.\u001b[K\n",
            "remote: Counting objects: 100% (8693/8693), done.\u001b[K\n",
            "remote: Compressing objects: 100% (8672/8672), done.\u001b[K\n",
            "remote: Total 385858 (delta 36), reused 8670 (delta 21), pack-reused 377165\u001b[K\n",
            "Receiving objects: 100% (385858/385858), 2.10 GiB | 27.95 MiB/s, done.\n",
            "Resolving deltas: 100% (1196/1196), done.\n",
            "Checking out files: 100% (90503/90503), done.\n"
          ]
        }
      ]
    },
    {
      "cell_type": "code",
      "metadata": {
        "id": "Wmjsr3oMnzzV"
      },
      "source": [
        "# Generiche\n",
        "import random\n",
        "import matplotlib.pyplot as plt\n",
        "%matplotlib inline\n",
        "import tensorflow as tf\n",
        "import numpy as np\n",
        "import os\n",
        "import glob\n",
        "import cv2\n",
        "\n",
        "# Keras\n",
        "from keras.models import Sequential\n",
        "from tensorflow.keras.utils import to_categorical\n",
        "from tensorflow.keras.layers import BatchNormalization\n",
        "from keras.layers import Dense, Flatten, Convolution2D, MaxPooling2D, Dropout, Activation, AveragePooling2D\n",
        "from keras.preprocessing import image\n",
        "from tensorflow.keras import regularizers\n",
        "from tensorflow.keras import optimizers \n",
        "import keras\n",
        "from tensorflow.keras.applications.vgg16 import VGG16\n",
        "from keras import Model\n",
        "from keras.preprocessing.image import ImageDataGenerator\n",
        "\n",
        "# Sklearn\n",
        "from sklearn.metrics import classification_report, confusion_matrix, accuracy_score\n",
        "from sklearn.model_selection import train_test_split\n",
        "from sklearn.utils import class_weight\n",
        "\n",
        "np.random.seed(1234)\n",
        "tf.random.set_seed(1234)"
      ],
      "execution_count": null,
      "outputs": []
    },
    {
      "cell_type": "markdown",
      "metadata": {
        "id": "W3UI6sdlt3I6"
      },
      "source": [
        "## Data pre-processing and Data Augmentation"
      ]
    },
    {
      "cell_type": "code",
      "metadata": {
        "id": "OtGvE_CrVn2V",
        "colab": {
          "base_uri": "https://localhost:8080/"
        },
        "outputId": "ea1f6d1d-7427-41ec-fc3a-6fb3637013b6"
      },
      "source": [
        "# Pre-processing for vgg16 architecture and data augmentation for images in training set\n",
        "%%time \n",
        "\n",
        "DIR_TRAIN = '/content/Fruit-Images-Dataset/Training'\n",
        "\n",
        "image_size = (64,64,3)\n",
        "\n",
        "datagen = ImageDataGenerator(rescale = 1./255, zoom_range = 0.2, horizontal_flip = True, preprocessing_function = tf.keras.applications.vgg16.preprocess_input)\n",
        "\n",
        "training_set = datagen.flow_from_directory( DIR_TRAIN,\n",
        "                                            target_size = image_size[:2],  \n",
        "                                            batch_size = 216, \n",
        "                                            class_mode = 'categorical', \n",
        "                                            color_mode='rgb'\n",
        "                                          )"
      ],
      "execution_count": null,
      "outputs": [
        {
          "output_type": "stream",
          "name": "stdout",
          "text": [
            "Found 67692 images belonging to 131 classes.\n",
            "CPU times: user 2.65 s, sys: 110 ms, total: 2.76 s\n",
            "Wall time: 3.28 s\n"
          ]
        }
      ]
    },
    {
      "cell_type": "code",
      "metadata": {
        "colab": {
          "base_uri": "https://localhost:8080/"
        },
        "id": "ph7X8xQXZ1eu",
        "outputId": "6abab52a-c892-4bb6-c30d-1220bdf017ca"
      },
      "source": [
        "# Pre-processing for vgg16 architecture and data augmentation for images in test set\n",
        "\n",
        "%%time \n",
        "DIR_TEST = '/content/Fruit-Images-Dataset/Test'\n",
        "image_size = (64,64,3)\n",
        "\n",
        "datagen_ = ImageDataGenerator(rescale = 1./255, zoom_range = 0.2, horizontal_flip = True, preprocessing_function = tf.keras.applications.vgg16.preprocess_input)\n",
        "\n",
        "test_set = datagen_.flow_from_directory( DIR_TEST,\n",
        "                                        target_size = image_size[:2],  \n",
        "                                        batch_size = 216, \n",
        "                                        class_mode = 'categorical', \n",
        "                                        color_mode='rgb',\n",
        "                                        shuffle = False\n",
        "                                      )"
      ],
      "execution_count": null,
      "outputs": [
        {
          "output_type": "stream",
          "name": "stdout",
          "text": [
            "Found 22688 images belonging to 131 classes.\n",
            "CPU times: user 929 ms, sys: 37.2 ms, total: 966 ms\n",
            "Wall time: 1.34 s\n"
          ]
        }
      ]
    },
    {
      "cell_type": "markdown",
      "metadata": {
        "id": "stP-_lf9uKAm"
      },
      "source": [
        "## TRANSFER LEARNING WITH VGG16"
      ]
    },
    {
      "cell_type": "code",
      "metadata": {
        "id": "XNinVEVzQz5p"
      },
      "source": [
        "#import vgg16 architecture\n",
        "base_model = VGG16(input_shape=(64,64,3),include_top = False, weights='imagenet')\n",
        "\n",
        "# application of transfer learning and setting output layers for the 131 classes of the task problem\n",
        "\n",
        "for layer in base_model.layers:\n",
        "    layer.trainable = False\n",
        "\n",
        "x = Flatten()(base_model.output)\n",
        "\n",
        "x = keras.layers.Dense(131, activation='softmax')(x)\n",
        "\n",
        "model = Model(inputs = base_model.input, outputs = x)\n"
      ],
      "execution_count": null,
      "outputs": []
    },
    {
      "cell_type": "code",
      "metadata": {
        "id": "XMaOtIVvXRUa",
        "colab": {
          "base_uri": "https://localhost:8080/"
        },
        "outputId": "79f5105b-23d8-4e28-9e69-3c656fa4ebd4"
      },
      "source": [
        "%%time \n",
        "\n",
        "model.compile(loss='categorical_crossentropy', optimizer = 'adam', metrics = ['accuracy'])"
      ],
      "execution_count": null,
      "outputs": [
        {
          "output_type": "stream",
          "name": "stdout",
          "text": [
            "CPU times: user 12.8 ms, sys: 1.1 ms, total: 13.9 ms\n",
            "Wall time: 40.8 ms\n"
          ]
        }
      ]
    },
    {
      "cell_type": "code",
      "metadata": {
        "colab": {
          "base_uri": "https://localhost:8080/"
        },
        "id": "vMzp-vOPYAbd",
        "outputId": "b90dfc2f-0ac1-4af8-b20a-a33edfe159e8"
      },
      "source": [
        "%%time\n",
        "\n",
        "model.summary()"
      ],
      "execution_count": null,
      "outputs": [
        {
          "output_type": "stream",
          "name": "stdout",
          "text": [
            "Model: \"model\"\n",
            "_________________________________________________________________\n",
            " Layer (type)                Output Shape              Param #   \n",
            "=================================================================\n",
            " input_1 (InputLayer)        [(None, 64, 64, 3)]       0         \n",
            "                                                                 \n",
            " block1_conv1 (Conv2D)       (None, 64, 64, 64)        1792      \n",
            "                                                                 \n",
            " block1_conv2 (Conv2D)       (None, 64, 64, 64)        36928     \n",
            "                                                                 \n",
            " block1_pool (MaxPooling2D)  (None, 32, 32, 64)        0         \n",
            "                                                                 \n",
            " block2_conv1 (Conv2D)       (None, 32, 32, 128)       73856     \n",
            "                                                                 \n",
            " block2_conv2 (Conv2D)       (None, 32, 32, 128)       147584    \n",
            "                                                                 \n",
            " block2_pool (MaxPooling2D)  (None, 16, 16, 128)       0         \n",
            "                                                                 \n",
            " block3_conv1 (Conv2D)       (None, 16, 16, 256)       295168    \n",
            "                                                                 \n",
            " block3_conv2 (Conv2D)       (None, 16, 16, 256)       590080    \n",
            "                                                                 \n",
            " block3_conv3 (Conv2D)       (None, 16, 16, 256)       590080    \n",
            "                                                                 \n",
            " block3_pool (MaxPooling2D)  (None, 8, 8, 256)         0         \n",
            "                                                                 \n",
            " block4_conv1 (Conv2D)       (None, 8, 8, 512)         1180160   \n",
            "                                                                 \n",
            " block4_conv2 (Conv2D)       (None, 8, 8, 512)         2359808   \n",
            "                                                                 \n",
            " block4_conv3 (Conv2D)       (None, 8, 8, 512)         2359808   \n",
            "                                                                 \n",
            " block4_pool (MaxPooling2D)  (None, 4, 4, 512)         0         \n",
            "                                                                 \n",
            " block5_conv1 (Conv2D)       (None, 4, 4, 512)         2359808   \n",
            "                                                                 \n",
            " block5_conv2 (Conv2D)       (None, 4, 4, 512)         2359808   \n",
            "                                                                 \n",
            " block5_conv3 (Conv2D)       (None, 4, 4, 512)         2359808   \n",
            "                                                                 \n",
            " block5_pool (MaxPooling2D)  (None, 2, 2, 512)         0         \n",
            "                                                                 \n",
            " flatten (Flatten)           (None, 2048)              0         \n",
            "                                                                 \n",
            " dense (Dense)               (None, 131)               268419    \n",
            "                                                                 \n",
            "=================================================================\n",
            "Total params: 14,983,107\n",
            "Trainable params: 268,419\n",
            "Non-trainable params: 14,714,688\n",
            "_________________________________________________________________\n",
            "CPU times: user 14.8 ms, sys: 3.11 ms, total: 17.9 ms\n",
            "Wall time: 17.1 ms\n"
          ]
        }
      ]
    },
    {
      "cell_type": "code",
      "metadata": {
        "colab": {
          "base_uri": "https://localhost:8080/"
        },
        "id": "IWUWhW13gMaL",
        "outputId": "40032f55-f5d9-4e36-9550-ce80d9e07f61"
      },
      "source": [
        "with tf.device('/device:GPU:0'):\n",
        "  history = model.fit_generator(training_set, validation_data= test_set, epochs=40)"
      ],
      "execution_count": null,
      "outputs": [
        {
          "output_type": "stream",
          "name": "stderr",
          "text": [
            "/usr/local/lib/python3.7/dist-packages/ipykernel_launcher.py:2: UserWarning: `Model.fit_generator` is deprecated and will be removed in a future version. Please use `Model.fit`, which supports generators.\n",
            "  \n"
          ]
        },
        {
          "output_type": "stream",
          "name": "stdout",
          "text": [
            "Epoch 1/40\n",
            "314/314 [==============================] - 192s 587ms/step - loss: 1.5552 - accuracy: 0.7468 - val_loss: 0.9508 - val_accuracy: 0.8232\n",
            "Epoch 2/40\n",
            "314/314 [==============================] - 179s 569ms/step - loss: 0.4578 - accuracy: 0.9411 - val_loss: 0.6281 - val_accuracy: 0.8714\n",
            "Epoch 3/40\n",
            "314/314 [==============================] - 178s 567ms/step - loss: 0.2702 - accuracy: 0.9670 - val_loss: 0.4791 - val_accuracy: 0.8943\n",
            "Epoch 4/40\n",
            "314/314 [==============================] - 178s 568ms/step - loss: 0.1892 - accuracy: 0.9780 - val_loss: 0.4091 - val_accuracy: 0.9104\n",
            "Epoch 5/40\n",
            "314/314 [==============================] - 178s 567ms/step - loss: 0.1425 - accuracy: 0.9845 - val_loss: 0.3448 - val_accuracy: 0.9230\n",
            "Epoch 6/40\n",
            "314/314 [==============================] - 177s 565ms/step - loss: 0.1131 - accuracy: 0.9879 - val_loss: 0.3184 - val_accuracy: 0.9244\n",
            "Epoch 7/40\n",
            "314/314 [==============================] - 178s 568ms/step - loss: 0.0928 - accuracy: 0.9899 - val_loss: 0.2789 - val_accuracy: 0.9357\n",
            "Epoch 8/40\n",
            "314/314 [==============================] - 179s 569ms/step - loss: 0.0779 - accuracy: 0.9921 - val_loss: 0.2559 - val_accuracy: 0.9395\n",
            "Epoch 9/40\n",
            "314/314 [==============================] - 178s 567ms/step - loss: 0.0656 - accuracy: 0.9939 - val_loss: 0.2443 - val_accuracy: 0.9423\n",
            "Epoch 10/40\n",
            "314/314 [==============================] - 178s 568ms/step - loss: 0.0564 - accuracy: 0.9947 - val_loss: 0.2233 - val_accuracy: 0.9452\n",
            "Epoch 11/40\n",
            "314/314 [==============================] - 178s 567ms/step - loss: 0.0501 - accuracy: 0.9955 - val_loss: 0.2157 - val_accuracy: 0.9464\n",
            "Epoch 12/40\n",
            "314/314 [==============================] - 178s 568ms/step - loss: 0.0439 - accuracy: 0.9961 - val_loss: 0.1974 - val_accuracy: 0.9507\n",
            "Epoch 13/40\n",
            "314/314 [==============================] - 178s 567ms/step - loss: 0.0381 - accuracy: 0.9970 - val_loss: 0.1971 - val_accuracy: 0.9490\n",
            "Epoch 14/40\n",
            "314/314 [==============================] - 178s 566ms/step - loss: 0.0338 - accuracy: 0.9970 - val_loss: 0.1885 - val_accuracy: 0.9506\n",
            "Epoch 15/40\n",
            "314/314 [==============================] - 178s 567ms/step - loss: 0.0308 - accuracy: 0.9970 - val_loss: 0.1763 - val_accuracy: 0.9551\n",
            "Epoch 16/40\n",
            "314/314 [==============================] - 177s 565ms/step - loss: 0.0278 - accuracy: 0.9978 - val_loss: 0.1772 - val_accuracy: 0.9551\n",
            "Epoch 17/40\n",
            "314/314 [==============================] - 178s 566ms/step - loss: 0.0250 - accuracy: 0.9979 - val_loss: 0.1732 - val_accuracy: 0.9533\n",
            "Epoch 18/40\n",
            "314/314 [==============================] - 178s 567ms/step - loss: 0.0229 - accuracy: 0.9980 - val_loss: 0.1631 - val_accuracy: 0.9550\n",
            "Epoch 19/40\n",
            "314/314 [==============================] - 178s 567ms/step - loss: 0.0204 - accuracy: 0.9983 - val_loss: 0.1584 - val_accuracy: 0.9570\n",
            "Epoch 20/40\n",
            "314/314 [==============================] - 178s 566ms/step - loss: 0.0186 - accuracy: 0.9986 - val_loss: 0.1546 - val_accuracy: 0.9593\n",
            "Epoch 21/40\n",
            "314/314 [==============================] - 177s 565ms/step - loss: 0.0177 - accuracy: 0.9985 - val_loss: 0.1453 - val_accuracy: 0.9614\n",
            "Epoch 22/40\n",
            "314/314 [==============================] - 178s 566ms/step - loss: 0.0162 - accuracy: 0.9987 - val_loss: 0.1541 - val_accuracy: 0.9580\n",
            "Epoch 23/40\n",
            "314/314 [==============================] - 178s 567ms/step - loss: 0.0150 - accuracy: 0.9987 - val_loss: 0.1475 - val_accuracy: 0.9608\n",
            "Epoch 24/40\n",
            "314/314 [==============================] - 178s 567ms/step - loss: 0.0136 - accuracy: 0.9990 - val_loss: 0.1498 - val_accuracy: 0.9593\n",
            "Epoch 25/40\n",
            "314/314 [==============================] - 179s 569ms/step - loss: 0.0126 - accuracy: 0.9990 - val_loss: 0.1379 - val_accuracy: 0.9624\n",
            "Epoch 26/40\n",
            "314/314 [==============================] - 178s 568ms/step - loss: 0.0116 - accuracy: 0.9990 - val_loss: 0.1318 - val_accuracy: 0.9660\n",
            "Epoch 27/40\n",
            "314/314 [==============================] - 177s 565ms/step - loss: 0.0112 - accuracy: 0.9990 - val_loss: 0.1369 - val_accuracy: 0.9650\n",
            "Epoch 28/40\n",
            "314/314 [==============================] - 178s 567ms/step - loss: 0.0102 - accuracy: 0.9992 - val_loss: 0.1352 - val_accuracy: 0.9650\n",
            "Epoch 29/40\n",
            "314/314 [==============================] - 178s 566ms/step - loss: 0.0095 - accuracy: 0.9992 - val_loss: 0.1404 - val_accuracy: 0.9635\n",
            "Epoch 30/40\n",
            "314/314 [==============================] - 178s 566ms/step - loss: 0.0090 - accuracy: 0.9994 - val_loss: 0.1322 - val_accuracy: 0.9654\n",
            "Epoch 31/40\n",
            "314/314 [==============================] - 178s 567ms/step - loss: 0.0084 - accuracy: 0.9994 - val_loss: 0.1406 - val_accuracy: 0.9628\n",
            "Epoch 32/40\n",
            "314/314 [==============================] - 178s 567ms/step - loss: 0.0085 - accuracy: 0.9993 - val_loss: 0.1299 - val_accuracy: 0.9674\n",
            "Epoch 33/40\n",
            "314/314 [==============================] - 178s 567ms/step - loss: 0.0075 - accuracy: 0.9995 - val_loss: 0.1299 - val_accuracy: 0.9686\n",
            "Epoch 34/40\n",
            "314/314 [==============================] - 178s 567ms/step - loss: 0.0072 - accuracy: 0.9994 - val_loss: 0.1300 - val_accuracy: 0.9662\n",
            "Epoch 35/40\n",
            "314/314 [==============================] - 178s 567ms/step - loss: 0.0072 - accuracy: 0.9993 - val_loss: 0.1271 - val_accuracy: 0.9680\n",
            "Epoch 36/40\n",
            "314/314 [==============================] - 179s 569ms/step - loss: 0.0059 - accuracy: 0.9997 - val_loss: 0.1328 - val_accuracy: 0.9661\n",
            "Epoch 37/40\n",
            "314/314 [==============================] - 178s 567ms/step - loss: 0.0059 - accuracy: 0.9996 - val_loss: 0.1239 - val_accuracy: 0.9688\n",
            "Epoch 38/40\n",
            "314/314 [==============================] - 178s 568ms/step - loss: 0.0057 - accuracy: 0.9996 - val_loss: 0.1319 - val_accuracy: 0.9673\n",
            "Epoch 39/40\n",
            "314/314 [==============================] - 184s 586ms/step - loss: 0.0056 - accuracy: 0.9995 - val_loss: 0.1226 - val_accuracy: 0.9686\n",
            "Epoch 40/40\n",
            "314/314 [==============================] - 180s 573ms/step - loss: 0.0051 - accuracy: 0.9996 - val_loss: 0.1370 - val_accuracy: 0.9655\n"
          ]
        }
      ]
    },
    {
      "cell_type": "code",
      "source": [
        "from google.colab import drive\n",
        "drive.mount('/content/drive')"
      ],
      "metadata": {
        "colab": {
          "base_uri": "https://localhost:8080/"
        },
        "id": "i2paKw3LvRVT",
        "outputId": "ec805ced-27ca-40bd-b1dc-aaf8d22dfb2f"
      },
      "execution_count": null,
      "outputs": [
        {
          "output_type": "stream",
          "name": "stdout",
          "text": [
            "Mounted at /content/drive\n"
          ]
        }
      ]
    },
    {
      "cell_type": "code",
      "source": [
        "#save model for future evaluation\n",
        "\n",
        "# serialize model to JSON\n",
        "model_json = model.to_json()\n",
        "with open(\"/content/drive/MyDrive/model_tl2.json\", \"w\") as json_file:\n",
        "    json_file.write(model_json)\n",
        "# serialize weights to HDF5\n",
        "model.save_weights(\"/content/drive/MyDrive/model_tl2.h5\")\n",
        "print(\"Saved model to disk\")"
      ],
      "metadata": {
        "colab": {
          "base_uri": "https://localhost:8080/"
        },
        "id": "wjeL5b4dduTM",
        "outputId": "fb00b5b6-0ceb-4b41-a710-ff19f628bda5"
      },
      "execution_count": null,
      "outputs": [
        {
          "output_type": "stream",
          "name": "stdout",
          "text": [
            "Saved model to disk\n"
          ]
        }
      ]
    },
    {
      "cell_type": "code",
      "source": [
        "'''#upload pre-trained model\n",
        "from keras.models import model_from_json\n",
        "json_file = open('model_tl.json', 'r')\n",
        "loaded_model_json = json_file.read()\n",
        "json_file.close()\n",
        "loaded_model = model_from_json(loaded_model_json)\n",
        "# load weights into new model\n",
        "loaded_model.load_weights(\"model_tl.h5\")\n",
        "print(\"Loaded model from disk\")'''"
      ],
      "metadata": {
        "colab": {
          "base_uri": "https://localhost:8080/",
          "height": 70
        },
        "id": "pDIdI5YhgaFS",
        "outputId": "79d5728f-ec77-4f12-aa76-85761fa6d932"
      },
      "execution_count": null,
      "outputs": [
        {
          "output_type": "execute_result",
          "data": {
            "application/vnd.google.colaboratory.intrinsic+json": {
              "type": "string"
            },
            "text/plain": [
              "'#upload pre-trained model\\nfrom keras.models import model_from_json\\njson_file = open(\\'model_tl.json\\', \\'r\\')\\nloaded_model_json = json_file.read()\\njson_file.close()\\nloaded_model = model_from_json(loaded_model_json)\\n# load weights into new model\\nloaded_model.load_weights(\"model_tl.h5\")\\nprint(\"Loaded model from disk\")'"
            ]
          },
          "metadata": {},
          "execution_count": 13
        }
      ]
    },
    {
      "cell_type": "markdown",
      "metadata": {
        "id": "liItDUDVuTxS"
      },
      "source": [
        "## RESULTS"
      ]
    },
    {
      "cell_type": "code",
      "metadata": {
        "id": "8plm9Y4huQcY",
        "colab": {
          "base_uri": "https://localhost:8080/",
          "height": 1000
        },
        "outputId": "b4bd237b-9561-4238-f7cb-5d97d41a24b1"
      },
      "source": [
        "%%time\n",
        "\n",
        "plt.figure(figsize=(8,8))\n",
        "plt.subplot(1, 2, 1)\n",
        "plt.plot(history.history['accuracy'])\n",
        "plt.plot(history.history['val_accuracy'])\n",
        "plt.title('Model Accuracy')\n",
        "plt.ylabel('accuracy')\n",
        "plt.xlabel('epoch')\n",
        "plt.legend(['train', 'val'], loc='upper left')\n",
        "plt.show()\n",
        "\n",
        "plt.figure(figsize=(8,8))\n",
        "plt.subplot(1, 2, 2)\n",
        "plt.plot(history.history['loss'])\n",
        "plt.plot(history.history['val_loss'])\n",
        "plt.title('Model Loss')\n",
        "plt.ylabel('loss')\n",
        "plt.xlabel('epoch')\n",
        "plt.legend(['train', 'val'], loc='upper left')\n",
        "plt.show()"
      ],
      "execution_count": null,
      "outputs": [
        {
          "output_type": "display_data",
          "data": {
            "image/png": "[encoded data removed]",
            "text/plain": [
              "<Figure size 576x576 with 1 Axes>"
            ]
          },
          "metadata": {
            "needs_background": "light"
          }
        },
        {
          "output_type": "display_data",
          "data": {
            "image/png": "[encoded data removed]",
            "text/plain": [
              "<Figure size 576x576 with 1 Axes>"
            ]
          },
          "metadata": {
            "needs_background": "light"
          }
        },
        {
          "output_type": "stream",
          "name": "stdout",
          "text": [
            "CPU times: user 389 ms, sys: 12.1 ms, total: 401 ms\n",
            "Wall time: 431 ms\n"
          ]
        }
      ]
    },
    {
      "cell_type": "code",
      "source": [
        "evalu = model.evaluate_generator(test_set)\n",
        "print(model.metrics_names)\n",
        "print(evalu)"
      ],
      "metadata": {
        "colab": {
          "base_uri": "https://localhost:8080/"
        },
        "id": "IRlLuMjTfDR-",
        "outputId": "267e5535-ed58-40bf-fd76-763aa62d4123"
      },
      "execution_count": null,
      "outputs": [
        {
          "output_type": "stream",
          "name": "stderr",
          "text": [
            "/usr/local/lib/python3.7/dist-packages/ipykernel_launcher.py:1: UserWarning: `Model.evaluate_generator` is deprecated and will be removed in a future version. Please use `Model.evaluate`, which supports generators.\n",
            "  \"\"\"Entry point for launching an IPython kernel.\n"
          ]
        },
        {
          "output_type": "stream",
          "name": "stdout",
          "text": [
            "['loss', 'accuracy']\n",
            "[0.13860280811786652, 0.9643423557281494]\n"
          ]
        }
      ]
    },
    {
      "cell_type": "code",
      "source": [
        "# score on unseen test images\n",
        "score_test = model.evaluate(test_set)\n",
        "print(\"Test loss:\", score_test[0])\n",
        "print(\"Test accuracy:\", score_test[1])"
      ],
      "metadata": {
        "colab": {
          "base_uri": "https://localhost:8080/"
        },
        "id": "7LB4Bk6akeOP",
        "outputId": "14db4309-da7f-45a1-fd6e-fd8f8858021d"
      },
      "execution_count": null,
      "outputs": [
        {
          "output_type": "stream",
          "name": "stdout",
          "text": [
            "106/106 [==============================] - 46s 430ms/step - loss: 0.1309 - accuracy: 0.9661\n",
            "Test loss: 0.13090264797210693\n",
            "Test accuracy: 0.9661495089530945\n"
          ]
        }
      ]
    },
    {
      "cell_type": "code",
      "source": [
        "from sklearn.metrics import  accuracy_score\n",
        "#val_data_gen.reset()\n",
        "preds = model.predict_generator(test_set)\n",
        "\n",
        "preds = np.argmax(preds, axis=1)\n",
        "\n",
        "labels =test_set.labels\n",
        "y_true = labels\n",
        "\n",
        "\n",
        "\n",
        "# confusion_matrix(y_true, y_pred)\n",
        "print(\"Accuracy:\", accuracy_score(y_true, preds))"
      ],
      "metadata": {
        "colab": {
          "base_uri": "https://localhost:8080/"
        },
        "id": "NoKnIQzGTyAW",
        "outputId": "5d89d033-048a-4456-c368-98f40f5b768a"
      },
      "execution_count": null,
      "outputs": [
        {
          "output_type": "stream",
          "name": "stderr",
          "text": [
            "/usr/local/lib/python3.7/dist-packages/ipykernel_launcher.py:3: UserWarning: `Model.predict_generator` is deprecated and will be removed in a future version. Please use `Model.predict`, which supports generators.\n",
            "  This is separate from the ipykernel package so we can avoid doing imports until\n"
          ]
        },
        {
          "output_type": "stream",
          "name": "stdout",
          "text": [
            "Accuracy: 0.9647831452750353\n"
          ]
        }
      ]
    },
    {
      "cell_type": "code",
      "source": [
        "import pandas as pd\n",
        "\n",
        "cm = confusion_matrix(y_true, preds)\n",
        "\n",
        "df = pd.DataFrame(cm)"
      ],
      "metadata": {
        "id": "9Q7iRzQuxAn_"
      },
      "execution_count": null,
      "outputs": []
    },
    {
      "cell_type": "code",
      "source": [
        "df.to_excel('cf_TL.xlsx')"
      ],
      "metadata": {
        "id": "_2TbSgdIxoIb"
      },
      "execution_count": null,
      "outputs": []
    }
  ]
}