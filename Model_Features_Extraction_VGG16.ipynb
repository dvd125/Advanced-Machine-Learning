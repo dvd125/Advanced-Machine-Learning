{
  "nbformat": 4,
  "nbformat_minor": 0,
  "metadata": {
    "colab": {
      "name": "Model_Features_Extraction_VGG16.ipynb",
      "provenance": [],
      "collapsed_sections": []
    },
    "kernelspec": {
      "name": "python3",
      "display_name": "Python 3"
    },
    "accelerator": "GPU"
  },
  "cells": [
    {
      "cell_type": "markdown",
      "source": [
        "# **ADVANCED MACHINE LEARNING FINAL PROJECT**\n",
        "\n",
        "##### Authors: Dario Della Mura - David Doci\n",
        "\n",
        "##### Course: Advanced Machine Learning\n",
        "\n",
        "##### Master's Degree: Data Science\n",
        "\n",
        "##### Anno accademico: 2020/2021"
      ],
      "metadata": {
        "id": "7xbmK7vs-J3J"
      }
    },
    {
      "cell_type": "markdown",
      "source": [
        "Setting Colab GPU environment"
      ],
      "metadata": {
        "id": "Jy4hHWjCEip7"
      }
    },
    {
      "cell_type": "code",
      "source": [
        "gpu_info = !nvidia-smi\n",
        "gpu_info = '\\n'.join(gpu_info)\n",
        "if gpu_info.find('failed') >= 0:\n",
        "  print('Select the Runtime > \"Change runtime type\" menu to enable a GPU accelerator, ')\n",
        "  print('and then re-execute this cell.')\n",
        "else:\n",
        "  print(gpu_info)"
      ],
      "metadata": {
        "colab": {
          "base_uri": "https://localhost:8080/"
        },
        "id": "ofayOhITEjtV",
        "outputId": "50f2e3a7-a506-47a7-b1dc-a807e9748f70"
      },
      "execution_count": null,
      "outputs": [
        {
          "output_type": "stream",
          "name": "stdout",
          "text": [
            "Wed Feb  9 19:45:39 2022       \n",
            "+-----------------------------------------------------------------------------+\n",
            "| NVIDIA-SMI 460.32.03    Driver Version: 460.32.03    CUDA Version: 11.2     |\n",
            "|-------------------------------+----------------------+----------------------+\n",
            "| GPU  Name        Persistence-M| Bus-Id        Disp.A | Volatile Uncorr. ECC |\n",
            "| Fan  Temp  Perf  Pwr:Usage/Cap|         Memory-Usage | GPU-Util  Compute M. |\n",
            "|                               |                      |               MIG M. |\n",
            "|===============================+======================+======================|\n",
            "|   0  Tesla T4            Off  | 00000000:00:04.0 Off |                    0 |\n",
            "| N/A   35C    P8     9W /  70W |      0MiB / 15109MiB |      0%      Default |\n",
            "|                               |                      |                  N/A |\n",
            "+-------------------------------+----------------------+----------------------+\n",
            "                                                                               \n",
            "+-----------------------------------------------------------------------------+\n",
            "| Processes:                                                                  |\n",
            "|  GPU   GI   CI        PID   Type   Process name                  GPU Memory |\n",
            "|        ID   ID                                                   Usage      |\n",
            "|=============================================================================|\n",
            "|  No running processes found                                                 |\n",
            "+-----------------------------------------------------------------------------+\n"
          ]
        }
      ]
    },
    {
      "cell_type": "code",
      "source": [
        "from psutil import virtual_memory\n",
        "ram_gb = virtual_memory().total / 1e9\n",
        "print('Your runtime has {:.1f} gigabytes of available RAM\\n'.format(ram_gb))\n",
        "\n",
        "if ram_gb < 20:\n",
        "  print('To enable a high-RAM runtime, select the Runtime > \"Change runtime type\"')\n",
        "  print('menu, and then select High-RAM in the Runtime shape dropdown. Then, ')\n",
        "  print('re-execute this cell.')\n",
        "else:\n",
        "  print('You are using a high-RAM runtime!')"
      ],
      "metadata": {
        "colab": {
          "base_uri": "https://localhost:8080/"
        },
        "id": "Rqt8ujWsEn9d",
        "outputId": "4354953b-35d0-40d6-ea10-396d4ee3fba3"
      },
      "execution_count": null,
      "outputs": [
        {
          "output_type": "stream",
          "name": "stdout",
          "text": [
            "Your runtime has 13.6 gigabytes of available RAM\n",
            "\n",
            "To enable a high-RAM runtime, select the Runtime > \"Change runtime type\"\n",
            "menu, and then select High-RAM in the Runtime shape dropdown. Then, \n",
            "re-execute this cell.\n"
          ]
        }
      ]
    },
    {
      "cell_type": "code",
      "source": [
        "import tensorflow as tf\n",
        "device_name = tf.test.gpu_device_name()\n",
        "if device_name != '/device:GPU:0':\n",
        "  raise SystemError('GPU device not found')\n",
        "print('Found GPU at: {}'.format(device_name))"
      ],
      "metadata": {
        "colab": {
          "base_uri": "https://localhost:8080/"
        },
        "id": "AObTUUqjEpXs",
        "outputId": "12d2f092-3f6e-4c10-e0fd-2c9570b7f176"
      },
      "execution_count": null,
      "outputs": [
        {
          "output_type": "stream",
          "name": "stdout",
          "text": [
            "Found GPU at: /device:GPU:0\n"
          ]
        }
      ]
    },
    {
      "cell_type": "markdown",
      "source": [
        "## Import Libreries and Fruit-360 Dataset"
      ],
      "metadata": {
        "id": "V_40wHwQ-OCi"
      }
    },
    {
      "cell_type": "code",
      "source": [
        "# import Fruits-360 dataset from Github\n",
        "\n",
        "!git clone 'https://github.com/Horea94/Fruit-Images-Dataset.git'"
      ],
      "metadata": {
        "colab": {
          "base_uri": "https://localhost:8080/"
        },
        "id": "bX3sLe0aKBzF",
        "outputId": "eeb07b0b-68ce-45d7-b316-3aa02ca239cb"
      },
      "execution_count": null,
      "outputs": [
        {
          "output_type": "stream",
          "name": "stdout",
          "text": [
            "fatal: destination path 'Fruit-Images-Dataset' already exists and is not an empty directory.\n"
          ]
        }
      ]
    },
    {
      "cell_type": "code",
      "metadata": {
        "id": "LWsa-s8XZN3b"
      },
      "source": [
        "# generiche \n",
        "import numpy as np\n",
        "import pandas as pd\n",
        "import matplotlib.pyplot as plt\n",
        "import seaborn as sns\n",
        "import os\n",
        "import random\n",
        "import tensorflow as tf\n",
        "import random\n",
        "import glob\n",
        "import cv2\n",
        "\n",
        "# keras\n",
        "import keras\n",
        "from keras.models import Sequential\n",
        "from keras import applications\n",
        "from keras.layers import Conv2D, MaxPooling2D, Flatten, Dense, GlobalAveragePooling2D\n",
        "from keras.layers import Dense, Flatten, Convolution2D, MaxPooling2D, Dropout, Activation, AveragePooling2D\n",
        "from keras.preprocessing.image import ImageDataGenerator\n",
        "from tensorflow.keras.utils import plot_model\n",
        "import keras.backend as K\n",
        "from tensorflow.keras.utils import to_categorical\n",
        "from keras.applications.resnet import ResNet50\n",
        "from tensorflow.keras.applications.vgg16 import VGG16\n",
        "from keras import Model\n",
        "\n",
        "# Sklearn\n",
        "import sklearn\n",
        "from sklearn.model_selection import train_test_split\n",
        "from sklearn.metrics import confusion_matrix, accuracy_score, roc_curve, classification_report\n",
        "from sklearn.svm import SVC\n",
        "from sklearn.linear_model import LogisticRegression\n",
        "from sklearn.neighbors import KNeighborsClassifier\n",
        "from sklearn.utils.estimator_checks import check_estimator\n",
        "\n",
        "import pickle\n",
        "\n",
        "np.random.seed(1234)\n",
        "tf.random.set_seed(1234)"
      ],
      "execution_count": null,
      "outputs": []
    },
    {
      "cell_type": "markdown",
      "metadata": {
        "id": "93H7OiOMwhZN"
      },
      "source": [
        "## Data pre-processing"
      ]
    },
    {
      "cell_type": "code",
      "source": [
        "# Pre-processing on training images and building images vector and classes vector\n",
        "%%time\n",
        "\n",
        "path_train = '/content/Fruit-Images-Dataset/Training/*'\n",
        "\n",
        "fruit_train = []\n",
        "fruit_label = []\n",
        "for dir_path in glob.glob(path_train):\n",
        "    img_label = dir_path.split(\"/\")[-1]\n",
        "    for image_path in glob.glob(os.path.join(dir_path,\"*.jpg\")):\n",
        "        image = cv2.imread(image_path,cv2.IMREAD_COLOR)\n",
        "        image = cv2.resize(image, (50,50))\n",
        "        image = cv2.cvtColor(image, cv2.COLOR_RGB2BGR)\n",
        "        fruit_train.append(image)\n",
        "        fruit_label.append(img_label)\n",
        "fruit_train = np.array(fruit_train)\n",
        "fruit_label = np.array(fruit_label)"
      ],
      "metadata": {
        "colab": {
          "base_uri": "https://localhost:8080/"
        },
        "id": "FcQvUQ7sKLw1",
        "outputId": "7a6e87ee-035c-442b-e8a0-7989eab6a80c"
      },
      "execution_count": null,
      "outputs": [
        {
          "output_type": "stream",
          "name": "stdout",
          "text": [
            "CPU times: user 15.7 s, sys: 4.3 s, total: 20 s\n",
            "Wall time: 37.9 s\n"
          ]
        }
      ]
    },
    {
      "cell_type": "code",
      "metadata": {
        "colab": {
          "base_uri": "https://localhost:8080/"
        },
        "id": "-r_-jWPifUtb",
        "outputId": "03a0d6da-877b-4347-d052-6e5b958cbf02"
      },
      "source": [
        "# class codification\n",
        "%%time\n",
        "\n",
        "# numerical label assignment to nominal classes\n",
        "label_to_id = {v:k for k,v in enumerate(np.unique(fruit_label))}\n",
        "id_to_label = {v:k for k,v in label_to_id.items() }\n",
        "# assignment of numerical labels to the reference images\n",
        "fruit_label_id = np.array([label_to_id[i] for i in fruit_label])"
      ],
      "execution_count": null,
      "outputs": [
        {
          "output_type": "stream",
          "name": "stdout",
          "text": [
            "CPU times: user 75.6 ms, sys: 897 ms, total: 972 ms\n",
            "Wall time: 1.45 s\n"
          ]
        }
      ]
    },
    {
      "cell_type": "markdown",
      "metadata": {
        "id": "8NFE-92gwc6n"
      },
      "source": [
        "## Load VGG16 Model"
      ]
    },
    {
      "cell_type": "code",
      "metadata": {
        "id": "XNinVEVzQz5p"
      },
      "source": [
        "# import vgg16 model\n",
        "base_model = VGG16(input_shape=(50,50,3),include_top = False, weights='imagenet')"
      ],
      "execution_count": null,
      "outputs": []
    },
    {
      "cell_type": "code",
      "metadata": {
        "colab": {
          "base_uri": "https://localhost:8080/"
        },
        "id": "f7IZpW80bq3P",
        "outputId": "41849b33-b025-4ca4-cfae-d6746258c1df"
      },
      "source": [
        "base_model.summary()"
      ],
      "execution_count": null,
      "outputs": [
        {
          "output_type": "stream",
          "name": "stdout",
          "text": [
            "Model: \"vgg16\"\n",
            "_________________________________________________________________\n",
            " Layer (type)                Output Shape              Param #   \n",
            "=================================================================\n",
            " input_1 (InputLayer)        [(None, 50, 50, 3)]       0         \n",
            "                                                                 \n",
            " block1_conv1 (Conv2D)       (None, 50, 50, 64)        1792      \n",
            "                                                                 \n",
            " block1_conv2 (Conv2D)       (None, 50, 50, 64)        36928     \n",
            "                                                                 \n",
            " block1_pool (MaxPooling2D)  (None, 25, 25, 64)        0         \n",
            "                                                                 \n",
            " block2_conv1 (Conv2D)       (None, 25, 25, 128)       73856     \n",
            "                                                                 \n",
            " block2_conv2 (Conv2D)       (None, 25, 25, 128)       147584    \n",
            "                                                                 \n",
            " block2_pool (MaxPooling2D)  (None, 12, 12, 128)       0         \n",
            "                                                                 \n",
            " block3_conv1 (Conv2D)       (None, 12, 12, 256)       295168    \n",
            "                                                                 \n",
            " block3_conv2 (Conv2D)       (None, 12, 12, 256)       590080    \n",
            "                                                                 \n",
            " block3_conv3 (Conv2D)       (None, 12, 12, 256)       590080    \n",
            "                                                                 \n",
            " block3_pool (MaxPooling2D)  (None, 6, 6, 256)         0         \n",
            "                                                                 \n",
            " block4_conv1 (Conv2D)       (None, 6, 6, 512)         1180160   \n",
            "                                                                 \n",
            " block4_conv2 (Conv2D)       (None, 6, 6, 512)         2359808   \n",
            "                                                                 \n",
            " block4_conv3 (Conv2D)       (None, 6, 6, 512)         2359808   \n",
            "                                                                 \n",
            " block4_pool (MaxPooling2D)  (None, 3, 3, 512)         0         \n",
            "                                                                 \n",
            " block5_conv1 (Conv2D)       (None, 3, 3, 512)         2359808   \n",
            "                                                                 \n",
            " block5_conv2 (Conv2D)       (None, 3, 3, 512)         2359808   \n",
            "                                                                 \n",
            " block5_conv3 (Conv2D)       (None, 3, 3, 512)         2359808   \n",
            "                                                                 \n",
            " block5_pool (MaxPooling2D)  (None, 1, 1, 512)         0         \n",
            "                                                                 \n",
            "=================================================================\n",
            "Total params: 14,714,688\n",
            "Trainable params: 14,714,688\n",
            "Non-trainable params: 0\n",
            "_________________________________________________________________\n"
          ]
        }
      ]
    },
    {
      "cell_type": "markdown",
      "metadata": {
        "id": "1_QdnRKKwn9r"
      },
      "source": [
        "## Features Extraction"
      ]
    },
    {
      "cell_type": "code",
      "metadata": {
        "colab": {
          "base_uri": "https://localhost:8080/"
        },
        "id": "xvZgIOM9b2cR",
        "outputId": "7831070c-9acd-4cb1-9799-f0b66edd487b"
      },
      "source": [
        "# cut vgg16 architecture on \"block4_pool\" layer\n",
        "%%time\n",
        "model_block4_pool = Model(inputs = base_model.input, outputs = base_model.get_layer('block4_pool').output)"
      ],
      "execution_count": null,
      "outputs": [
        {
          "output_type": "stream",
          "name": "stdout",
          "text": [
            "CPU times: user 5.74 ms, sys: 0 ns, total: 5.74 ms\n",
            "Wall time: 13.5 ms\n"
          ]
        }
      ]
    },
    {
      "cell_type": "code",
      "metadata": {
        "colab": {
          "base_uri": "https://localhost:8080/"
        },
        "id": "CHdxWxMGb7rh",
        "outputId": "34c9e53e-3577-42d7-8b7e-f984ca66ca47"
      },
      "source": [
        "%%time\n",
        "model_block4_pool.summary()"
      ],
      "execution_count": null,
      "outputs": [
        {
          "output_type": "stream",
          "name": "stdout",
          "text": [
            "Model: \"model\"\n",
            "_________________________________________________________________\n",
            " Layer (type)                Output Shape              Param #   \n",
            "=================================================================\n",
            " input_1 (InputLayer)        [(None, 50, 50, 3)]       0         \n",
            "                                                                 \n",
            " block1_conv1 (Conv2D)       (None, 50, 50, 64)        1792      \n",
            "                                                                 \n",
            " block1_conv2 (Conv2D)       (None, 50, 50, 64)        36928     \n",
            "                                                                 \n",
            " block1_pool (MaxPooling2D)  (None, 25, 25, 64)        0         \n",
            "                                                                 \n",
            " block2_conv1 (Conv2D)       (None, 25, 25, 128)       73856     \n",
            "                                                                 \n",
            " block2_conv2 (Conv2D)       (None, 25, 25, 128)       147584    \n",
            "                                                                 \n",
            " block2_pool (MaxPooling2D)  (None, 12, 12, 128)       0         \n",
            "                                                                 \n",
            " block3_conv1 (Conv2D)       (None, 12, 12, 256)       295168    \n",
            "                                                                 \n",
            " block3_conv2 (Conv2D)       (None, 12, 12, 256)       590080    \n",
            "                                                                 \n",
            " block3_conv3 (Conv2D)       (None, 12, 12, 256)       590080    \n",
            "                                                                 \n",
            " block3_pool (MaxPooling2D)  (None, 6, 6, 256)         0         \n",
            "                                                                 \n",
            " block4_conv1 (Conv2D)       (None, 6, 6, 512)         1180160   \n",
            "                                                                 \n",
            " block4_conv2 (Conv2D)       (None, 6, 6, 512)         2359808   \n",
            "                                                                 \n",
            " block4_conv3 (Conv2D)       (None, 6, 6, 512)         2359808   \n",
            "                                                                 \n",
            " block4_pool (MaxPooling2D)  (None, 3, 3, 512)         0         \n",
            "                                                                 \n",
            "=================================================================\n",
            "Total params: 7,635,264\n",
            "Trainable params: 7,635,264\n",
            "Non-trainable params: 0\n",
            "_________________________________________________________________\n",
            "CPU times: user 13.8 ms, sys: 1.14 ms, total: 15 ms\n",
            "Wall time: 23 ms\n"
          ]
        }
      ]
    },
    {
      "cell_type": "code",
      "metadata": {
        "id": "jW4GI9dYZt-I",
        "colab": {
          "base_uri": "https://localhost:8080/"
        },
        "outputId": "47ff4d91-1658-4499-da0a-52d4336ad49e"
      },
      "source": [
        "# features extraction on train set \n",
        "%%time\n",
        "block4_pool_features = model_block4_pool.predict(fruit_train)"
      ],
      "execution_count": null,
      "outputs": [
        {
          "output_type": "stream",
          "name": "stdout",
          "text": [
            "CPU times: user 10.3 s, sys: 2.78 s, total: 13 s\n",
            "Wall time: 24.2 s\n"
          ]
        }
      ]
    },
    {
      "cell_type": "code",
      "metadata": {
        "colab": {
          "base_uri": "https://localhost:8080/"
        },
        "id": "8_w4O6_ueGnD",
        "outputId": "2791bb44-78a7-436d-e635-f4d058656673"
      },
      "source": [
        "# reshape of features extracted\n",
        "%%time\n",
        "block4_pool_features = block4_pool_features.reshape((block4_pool_features.shape[0], (block4_pool_features.shape[1]*block4_pool_features.shape[2]*block4_pool_features.shape[3])))"
      ],
      "execution_count": null,
      "outputs": [
        {
          "output_type": "stream",
          "name": "stdout",
          "text": [
            "CPU times: user 40 µs, sys: 11 µs, total: 51 µs\n",
            "Wall time: 55.1 µs\n"
          ]
        }
      ]
    },
    {
      "cell_type": "code",
      "metadata": {
        "colab": {
          "base_uri": "https://localhost:8080/"
        },
        "id": "MwPO9DxxeZMh",
        "outputId": "f1ce8a32-beda-465a-b2f0-21c060f0e5e9"
      },
      "source": [
        "# splitting in train(X_train, y_train) and val(X_test, y_test)\n",
        "%%time\n",
        "X_train, X_test, y_train, y_test = train_test_split(block4_pool_features, fruit_label_id, test_size=0.1, random_state=101)"
      ],
      "execution_count": null,
      "outputs": [
        {
          "output_type": "stream",
          "name": "stdout",
          "text": [
            "CPU times: user 354 ms, sys: 66.5 ms, total: 420 ms\n",
            "Wall time: 423 ms\n"
          ]
        }
      ]
    },
    {
      "cell_type": "markdown",
      "metadata": {
        "id": "DlsDo-aQwsxj"
      },
      "source": [
        "## Train Traditional ML Models: SVM - Logistic Regression - KNN"
      ]
    },
    {
      "cell_type": "code",
      "source": [
        "%%time\n",
        "\n",
        "#Classifiers definition\n",
        "classificatore_svm = sklearn.svm.SVC()\n",
        "classificatore_lr = LogisticRegression()\n",
        "classificatore_knn = KNeighborsClassifier()"
      ],
      "metadata": {
        "id": "9p27xQgvLlve",
        "colab": {
          "base_uri": "https://localhost:8080/"
        },
        "outputId": "4c2f1c28-e9ad-4554-a777-02ae780f3abd"
      },
      "execution_count": null,
      "outputs": [
        {
          "output_type": "stream",
          "name": "stdout",
          "text": [
            "CPU times: user 48 µs, sys: 12 µs, total: 60 µs\n",
            "Wall time: 63.7 µs\n"
          ]
        }
      ]
    },
    {
      "cell_type": "code",
      "metadata": {
        "colab": {
          "base_uri": "https://localhost:8080/"
        },
        "id": "MyJJuNCalF_e",
        "outputId": "14815182-6b08-4acc-93ae-b3b504dc3c0c"
      },
      "source": [
        "%%time\n",
        "\n",
        "# training SVM with features extracted\n",
        "clf_svm = classificatore_svm.fit(X_train, y_train)"
      ],
      "execution_count": null,
      "outputs": [
        {
          "output_type": "stream",
          "name": "stdout",
          "text": [
            "CPU times: user 15min 56s, sys: 3.99 s, total: 16min\n",
            "Wall time: 15min 56s\n"
          ]
        }
      ]
    },
    {
      "cell_type": "code",
      "metadata": {
        "id": "k_X7-Ab8YqcL",
        "colab": {
          "base_uri": "https://localhost:8080/"
        },
        "outputId": "8f8afe37-6f40-4800-b4c2-bb05b1e4797c"
      },
      "source": [
        "%%time\n",
        "\n",
        "# training Logtic regression with features extracted\n",
        "clf_lr = classificatore_lr.fit(X_train, y_train)"
      ],
      "execution_count": null,
      "outputs": [
        {
          "output_type": "stream",
          "name": "stdout",
          "text": [
            "CPU times: user 18min 5s, sys: 51.9 s, total: 18min 57s\n",
            "Wall time: 9min 50s\n"
          ]
        },
        {
          "output_type": "stream",
          "name": "stderr",
          "text": [
            "/usr/local/lib/python3.7/dist-packages/sklearn/linear_model/_logistic.py:818: ConvergenceWarning: lbfgs failed to converge (status=1):\n",
            "STOP: TOTAL NO. of ITERATIONS REACHED LIMIT.\n",
            "\n",
            "Increase the number of iterations (max_iter) or scale the data as shown in:\n",
            "    https://scikit-learn.org/stable/modules/preprocessing.html\n",
            "Please also refer to the documentation for alternative solver options:\n",
            "    https://scikit-learn.org/stable/modules/linear_model.html#logistic-regression\n",
            "  extra_warning_msg=_LOGISTIC_SOLVER_CONVERGENCE_MSG,\n"
          ]
        }
      ]
    },
    {
      "cell_type": "code",
      "metadata": {
        "colab": {
          "base_uri": "https://localhost:8080/"
        },
        "id": "DEIc7v63Y9rI",
        "outputId": "30d7fc42-11d0-430d-a17d-cb082ed9d309"
      },
      "source": [
        "%%time\n",
        "\n",
        "# training KNN with features extracted\n",
        "clf_knn = classificatore_knn.fit(X_train, y_train)"
      ],
      "execution_count": null,
      "outputs": [
        {
          "output_type": "stream",
          "name": "stdout",
          "text": [
            "CPU times: user 234 ms, sys: 14 µs, total: 234 ms\n",
            "Wall time: 234 ms\n"
          ]
        }
      ]
    },
    {
      "cell_type": "markdown",
      "metadata": {
        "id": "eJ-utHD_wxf_"
      },
      "source": [
        "## Testing Models"
      ]
    },
    {
      "cell_type": "code",
      "metadata": {
        "colab": {
          "base_uri": "https://localhost:8080/"
        },
        "id": "B_FaaNdq-UpQ",
        "outputId": "94598dc6-7efc-4f59-8194-4253ebc79dbe"
      },
      "source": [
        "%%time\n",
        "\n",
        "# Pred with SVM the validation set(X_test)\n",
        "y_pred_svm = clf_svm.predict(X_test)"
      ],
      "execution_count": null,
      "outputs": [
        {
          "output_type": "stream",
          "name": "stdout",
          "text": [
            "CPU times: user 19min 4s, sys: 1.12 s, total: 19min 5s\n",
            "Wall time: 19min 17s\n"
          ]
        }
      ]
    },
    {
      "cell_type": "code",
      "metadata": {
        "colab": {
          "base_uri": "https://localhost:8080/"
        },
        "id": "GSyHK2VZZK5P",
        "outputId": "3bb92d63-c372-4455-ffde-94d66b82bb68"
      },
      "source": [
        "%%time\n",
        "\n",
        "# Pred with LR the validation set(X_test)\n",
        "y_pred_lr = clf_lr.predict(X_test)"
      ],
      "execution_count": null,
      "outputs": [
        {
          "output_type": "stream",
          "name": "stdout",
          "text": [
            "CPU times: user 558 ms, sys: 29 ms, total: 587 ms\n",
            "Wall time: 332 ms\n"
          ]
        }
      ]
    },
    {
      "cell_type": "code",
      "metadata": {
        "colab": {
          "base_uri": "https://localhost:8080/"
        },
        "id": "kavUTJ_nZREF",
        "outputId": "ace3d8d4-3562-42ac-c921-c44ed69a3a47"
      },
      "source": [
        "%%time\n",
        "\n",
        "# Pred KNN the validation set(X_test)\n",
        "y_pred_knn = clf_knn.predict(X_test)"
      ],
      "execution_count": null,
      "outputs": [
        {
          "output_type": "stream",
          "name": "stdout",
          "text": [
            "CPU times: user 3min 17s, sys: 7.34 s, total: 3min 24s\n",
            "Wall time: 1min 47s\n"
          ]
        }
      ]
    },
    {
      "cell_type": "code",
      "source": [
        "import pickle\n",
        "\n",
        "# save svm model to disk\n",
        "svm = 'svm.sav'\n",
        "pickle.dump(clf_svm, open(svm, 'wb'))\n",
        "\n",
        "# save lr model to disk\n",
        "lr = 'lrl.sav'\n",
        "pickle.dump(clf_lr, open(lr, 'wb'))\n",
        "\n",
        "# save knn model to disk\n",
        "knn = 'knn.sav'\n",
        "pickle.dump(clf_knn, open(knn, 'wb'))"
      ],
      "metadata": {
        "id": "EybihpowqON5"
      },
      "execution_count": null,
      "outputs": []
    },
    {
      "cell_type": "code",
      "source": [
        "import shutil \n",
        "#shutil.move(\"/content/knn.sav\", \"/content/drive/MyDrive/Colab Notebooks\")\n",
        "#shutil.move(\"/content/svm.sav\", \"/content/drive/MyDrive/Colab Notebooks\")\n",
        "#shutil.move(\"/content/lrl.sav\", \"/content/drive/MyDrive/Colab Notebooks\")"
      ],
      "metadata": {
        "colab": {
          "base_uri": "https://localhost:8080/",
          "height": 35
        },
        "id": "tXSTbpvKtJy-",
        "outputId": "82f37e22-a31f-49e2-8979-da2c4b6010cc"
      },
      "execution_count": null,
      "outputs": [
        {
          "output_type": "execute_result",
          "data": {
            "application/vnd.google.colaboratory.intrinsic+json": {
              "type": "string"
            },
            "text/plain": [
              "'/content/drive/MyDrive/Colab Notebooks/lrl.sav'"
            ]
          },
          "metadata": {},
          "execution_count": 26
        }
      ]
    },
    {
      "cell_type": "code",
      "source": [
        "from google.colab import drive\n",
        "drive.mount('/content/drive')"
      ],
      "metadata": {
        "colab": {
          "base_uri": "https://localhost:8080/"
        },
        "id": "riR3UVDXs9GS",
        "outputId": "869dcbb5-2293-4771-cc9b-cdd8218849fd"
      },
      "execution_count": null,
      "outputs": [
        {
          "output_type": "stream",
          "name": "stdout",
          "text": [
            "Mounted at /content/drive\n"
          ]
        }
      ]
    },
    {
      "cell_type": "markdown",
      "metadata": {
        "id": "2WjxcIH5vi4k"
      },
      "source": [
        "### Results on Val"
      ]
    },
    {
      "cell_type": "code",
      "metadata": {
        "id": "llNhrmDh-Xyd"
      },
      "source": [
        "# Scores of traditional ML models\n",
        "score_svm = accuracy_score(y_test, y_pred_svm)\n",
        "score_lr = accuracy_score(y_test, y_pred_lr)\n",
        "score_knn = accuracy_score(y_test, y_pred_knn)"
      ],
      "execution_count": null,
      "outputs": []
    },
    {
      "cell_type": "code",
      "metadata": {
        "colab": {
          "base_uri": "https://localhost:8080/"
        },
        "id": "B9RSLuBkZv1i",
        "outputId": "2d17c992-bde9-4e10-bb96-d827af3cb048"
      },
      "source": [
        "dict_score = {\"Score_svm\": score_svm, \"Score_lr\": score_lr, \"Score_knn\": score_knn}\n",
        "\n",
        "for k, v in dict_score.items():\n",
        "    print(str(k) + \" = \" + str(v))"
      ],
      "execution_count": null,
      "outputs": [
        {
          "output_type": "stream",
          "name": "stdout",
          "text": [
            "Score_svm = 0.9998522895125553\n",
            "Score_lr = 0.9997045790251108\n",
            "Score_knn = 0.9998522895125553\n"
          ]
        }
      ]
    },
    {
      "cell_type": "markdown",
      "metadata": {
        "id": "i20r6afC-8Ia"
      },
      "source": [
        "## Testing On Unseen Images"
      ]
    },
    {
      "cell_type": "code",
      "metadata": {
        "id": "ZakSR206t3TW",
        "colab": {
          "base_uri": "https://localhost:8080/"
        },
        "outputId": "a6eb891b-a9c4-4a30-c47e-c00106398620"
      },
      "source": [
        "# Pre-processing on test images and building images vector and classes vector\n",
        "%%time\n",
        "\n",
        "path_test = '/content/Fruit-Images-Dataset/Test/*'\n",
        "\n",
        "fruit_test = []\n",
        "fruit_test_label = []\n",
        "for dir_path in glob.glob(path_test):\n",
        "    img_label = dir_path.split(\"/\")[-1]\n",
        "    for image_path in glob.glob(os.path.join(dir_path,\"*.jpg\")):\n",
        "        image = cv2.imread(image_path,cv2.IMREAD_COLOR)\n",
        "        image = cv2.resize(image, (50,50))\n",
        "        image = cv2.cvtColor(image, cv2.COLOR_RGB2BGR)\n",
        "        fruit_test.append(image)\n",
        "        fruit_test_label.append(img_label)\n",
        "fruit_test = np.array(fruit_test)\n",
        "fruit_test_label = np.array(fruit_test_label)"
      ],
      "execution_count": null,
      "outputs": [
        {
          "output_type": "stream",
          "name": "stdout",
          "text": [
            "CPU times: user 5.04 s, sys: 820 ms, total: 5.86 s\n",
            "Wall time: 7.17 s\n"
          ]
        }
      ]
    },
    {
      "cell_type": "code",
      "metadata": {
        "id": "JmbTKYmm__6-",
        "colab": {
          "base_uri": "https://localhost:8080/"
        },
        "outputId": "52247093-2614-4567-b20a-295b32b2511a"
      },
      "source": [
        "# class codification\n",
        "%%time\n",
        "\n",
        "# numerical label assignment to nominal classes\n",
        "label_to_id_test = {v:k for k,v in enumerate(np.unique(fruit_test_label)) }\n",
        "id_to_label_test = {v:k for k,v in label_to_id_test.items() }\n",
        "# assignment of numerical labels to the reference images\n",
        "fruit_label_test_id = np.array([label_to_id_test[i] for i in fruit_test_label])"
      ],
      "execution_count": null,
      "outputs": [
        {
          "output_type": "stream",
          "name": "stdout",
          "text": [
            "CPU times: user 14.7 ms, sys: 8.35 ms, total: 23 ms\n",
            "Wall time: 23.7 ms\n"
          ]
        }
      ]
    },
    {
      "cell_type": "code",
      "metadata": {
        "id": "AoPV1jD5IV6h",
        "colab": {
          "base_uri": "https://localhost:8080/"
        },
        "outputId": "5c6702bc-c478-4e89-a81f-db8ebb2d819e"
      },
      "source": [
        "# features extraction on train set \n",
        "%%time\n",
        "block4_pool_features_test = model_block4_pool.predict(fruit_test)"
      ],
      "execution_count": null,
      "outputs": [
        {
          "output_type": "stream",
          "name": "stdout",
          "text": [
            "CPU times: user 3.1 s, sys: 661 ms, total: 3.76 s\n",
            "Wall time: 10.6 s\n"
          ]
        }
      ]
    },
    {
      "cell_type": "code",
      "metadata": {
        "id": "_gNZ3t8uIrhV",
        "colab": {
          "base_uri": "https://localhost:8080/"
        },
        "outputId": "bcff1ddf-b8a3-4c78-fed8-0a489699a35e"
      },
      "source": [
        "# reshape of features extracted\n",
        "%%time\n",
        "block4_pool_features_test = block4_pool_features_test.reshape((block4_pool_features_test.shape[0], (block4_pool_features_test.shape[1]*block4_pool_features_test.shape[2]*block4_pool_features_test.shape[3])))"
      ],
      "execution_count": null,
      "outputs": [
        {
          "output_type": "stream",
          "name": "stdout",
          "text": [
            "CPU times: user 24 µs, sys: 6 µs, total: 30 µs\n",
            "Wall time: 35.3 µs\n"
          ]
        }
      ]
    },
    {
      "cell_type": "code",
      "metadata": {
        "colab": {
          "base_uri": "https://localhost:8080/"
        },
        "id": "_oUNLU11xYDF",
        "outputId": "b034eb8c-553e-40ef-ac01-f3593d6c3c43"
      },
      "source": [
        "block4_pool_features.shape, block4_pool_features_test.shape"
      ],
      "execution_count": null,
      "outputs": [
        {
          "output_type": "execute_result",
          "data": {
            "text/plain": [
              "((67692, 4608), (22688, 4608))"
            ]
          },
          "metadata": {},
          "execution_count": 14
        }
      ]
    },
    {
      "cell_type": "code",
      "source": [
        "clf_svm = pickle.load(open('/content/drive/MyDrive/Colab Notebooks/svm.sav', 'rb'))"
      ],
      "metadata": {
        "id": "mt_FrQJ_SpAC"
      },
      "execution_count": null,
      "outputs": []
    },
    {
      "cell_type": "code",
      "metadata": {
        "id": "3hPVuXPfI6rs",
        "colab": {
          "base_uri": "https://localhost:8080/"
        },
        "outputId": "9938b0a1-cba4-4053-f10b-c68d0df02b61"
      },
      "source": [
        "# Pred with SVM the test set\n",
        "%%time\n",
        "y_pred_test_svm = clf_svm.predict(block4_pool_features_test)"
      ],
      "execution_count": null,
      "outputs": [
        {
          "output_type": "stream",
          "name": "stdout",
          "text": [
            "CPU times: user 1h 5min 56s, sys: 3.14 s, total: 1h 5min 59s\n",
            "Wall time: 1h 5min 46s\n"
          ]
        }
      ]
    },
    {
      "cell_type": "code",
      "source": [
        "from sklearn.metrics import confusion_matrix\n",
        "# Confusion matrix\n",
        "print('Confusion matrix svm:')\n",
        "cm_svm = confusion_matrix(fruit_label_test_id, y_pred_test_svm)\n",
        "df_cm_svm = pd.DataFrame(cm_svm)\n",
        "df_cm_svm.to_excel('cf_svm.xlsx')"
      ],
      "metadata": {
        "colab": {
          "base_uri": "https://localhost:8080/"
        },
        "id": "ZeGodtrMTSse",
        "outputId": "956287b0-dfeb-40da-a3fd-58cc437cbbac"
      },
      "execution_count": null,
      "outputs": [
        {
          "output_type": "stream",
          "name": "stdout",
          "text": [
            "Confusion matrix svm:\n"
          ]
        }
      ]
    },
    {
      "cell_type": "code",
      "source": [
        "clf_lr = pickle.load(open('/content/drive/MyDrive/Colab Notebooks/lrl.sav', 'rb'))"
      ],
      "metadata": {
        "id": "BDe_0iruifY4"
      },
      "execution_count": null,
      "outputs": []
    },
    {
      "cell_type": "code",
      "metadata": {
        "colab": {
          "base_uri": "https://localhost:8080/"
        },
        "id": "KqLwg8O3a0So",
        "outputId": "f13e385a-3c31-43de-d570-df002c47b95d"
      },
      "source": [
        "# Pred with LR the test set\n",
        "%%time\n",
        "y_pred_test_lr = clf_lr.predict(block4_pool_features_test)"
      ],
      "execution_count": null,
      "outputs": [
        {
          "output_type": "stream",
          "name": "stdout",
          "text": [
            "CPU times: user 1.94 s, sys: 138 ms, total: 2.07 s\n",
            "Wall time: 1.24 s\n"
          ]
        }
      ]
    },
    {
      "cell_type": "code",
      "source": [
        "# Confusion matrix\n",
        "print('Confusion matrix lr:')\n",
        "cm_lr = confusion_matrix(fruit_label_test_id, y_pred_test_lr)\n",
        "df_cm_lr = pd.DataFrame(cm_lr)\n",
        "df_cm_lr.to_excel('cf_lr.xlsx')"
      ],
      "metadata": {
        "colab": {
          "base_uri": "https://localhost:8080/"
        },
        "id": "7SoZlcM2imEa",
        "outputId": "b79fe07f-630c-42f3-e806-b2fadb288dc5"
      },
      "execution_count": null,
      "outputs": [
        {
          "output_type": "stream",
          "name": "stdout",
          "text": [
            "Confusion matrix lr:\n"
          ]
        }
      ]
    },
    {
      "cell_type": "code",
      "source": [
        "clf_knn= pickle.load(open('/content/drive/MyDrive/Colab Notebooks/knn.sav', 'rb'))"
      ],
      "metadata": {
        "id": "9wRUJsUDi8Yb"
      },
      "execution_count": null,
      "outputs": []
    },
    {
      "cell_type": "code",
      "metadata": {
        "colab": {
          "base_uri": "https://localhost:8080/"
        },
        "id": "SQIvpcFQa3Rq",
        "outputId": "46a16da8-e3cb-4009-d6dc-fc884cd43943"
      },
      "source": [
        "# Pred with KNN the test set\n",
        "%%time\n",
        "y_pred_test_knn = clf_knn.predict(block4_pool_features_test)"
      ],
      "execution_count": null,
      "outputs": [
        {
          "output_type": "stream",
          "name": "stdout",
          "text": [
            "CPU times: user 10min 45s, sys: 23.4 s, total: 11min 9s\n",
            "Wall time: 6min 7s\n"
          ]
        }
      ]
    },
    {
      "cell_type": "code",
      "source": [
        "# Confusion matrix\n",
        "print('Confusion matrix knn:')\n",
        "cm_knn = confusion_matrix(fruit_label_test_id, y_pred_test_knn)\n",
        "df_cm_knn = pd.DataFrame(cm_knn)\n",
        "df_cm_knn.to_excel('cf_kmm.xlsx')"
      ],
      "metadata": {
        "colab": {
          "base_uri": "https://localhost:8080/"
        },
        "id": "rI6FchrQjdS5",
        "outputId": "35c912a9-dc72-446a-bca5-9e99c3454da4"
      },
      "execution_count": null,
      "outputs": [
        {
          "output_type": "stream",
          "name": "stdout",
          "text": [
            "Confusion matrix knn:\n"
          ]
        }
      ]
    },
    {
      "cell_type": "markdown",
      "metadata": {
        "id": "ZUa1lzsyvqJN"
      },
      "source": [
        "### Results on test"
      ]
    },
    {
      "cell_type": "code",
      "metadata": {
        "id": "SgC4--O3JEjB"
      },
      "source": [
        "# Scores of traditional ML Models on test set\n",
        "score_svm_test = accuracy_score(fruit_label_test_id, y_pred_test_svm)\n",
        "score_lr_test = accuracy_score(fruit_label_test_id, y_pred_test_lr)\n",
        "score_knn_test = accuracy_score(fruit_label_test_id, y_pred_test_knn)"
      ],
      "execution_count": null,
      "outputs": []
    },
    {
      "cell_type": "code",
      "source": [
        "dict_score_test = {\"Score_svm_test\": score_svm_test, \"Score_lr_test\": score_lr_test, \"Score_knn_test\": score_knn_test}\n",
        "\n",
        "for k, v in dict_score_test.items():\n",
        "    print(str(k) + \" = \" + str(v))"
      ],
      "metadata": {
        "colab": {
          "base_uri": "https://localhost:8080/"
        },
        "id": "wOR7wH9GwCo2",
        "outputId": "97bc79f6-7efb-4ead-bfef-04d5e57c815c"
      },
      "execution_count": null,
      "outputs": [
        {
          "output_type": "stream",
          "name": "stdout",
          "text": [
            "Score_svm_test = 0.9776974612129761\n",
            "Score_lr_test = 0.9592295486600846\n",
            "Score_knn_test = 0.9518688293370945\n"
          ]
        }
      ]
    }
  ]
}